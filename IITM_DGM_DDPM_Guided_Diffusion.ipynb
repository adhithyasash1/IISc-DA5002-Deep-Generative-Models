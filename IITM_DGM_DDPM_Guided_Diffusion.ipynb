{
 "cells": [
  {
   "cell_type": "code",
   "execution_count": 7,
   "metadata": {},
   "outputs": [],
   "source": [
    "import torch\n",
    "import torch.nn as nn\n",
    "import torch.nn.functional as F\n",
    "import torch.optim as optim\n",
    "import torchvision\n",
    "import torchvision.transforms as transforms\n",
    "from torch.utils.data import DataLoader\n",
    "import numpy as np\n",
    "import matplotlib.pyplot as plt\n",
    "from tqdm import tqdm\n",
    "import math\n",
    "\n",
    "# Set device \n",
    "device = \"cuda:3\"\n",
    "\n",
    "### --- SHARED COMPONENTS (Scheduler & U-Net from previous example) --- ###\n",
    "\n",
    "def linear_beta_schedule(timesteps, start=0.0001, end=0.02):\n",
    "    return torch.linspace(start, end, timesteps)\n",
    "\n",
    "def get_index_from_list(vals, t, x_shape):\n",
    "    batch_size = t.shape[0]\n",
    "    out = vals.gather(-1, t.cpu())\n",
    "    return out.reshape(batch_size, *((1,) * (len(x_shape) - 1))).to(t.device)\n",
    "\n",
    "def forward_diffusion_sample(x_0, t, sqrt_alphas_cumprod, sqrt_one_minus_alphas_cumprod):\n",
    "    noise = torch.randn_like(x_0)\n",
    "    sqrt_alphas_cumprod_t = get_index_from_list(sqrt_alphas_cumprod, t, x_0.shape)\n",
    "    sqrt_one_minus_alphas_cumprod_t = get_index_from_list(\n",
    "        sqrt_one_minus_alphas_cumprod, t, x_0.shape\n",
    "    )\n",
    "    mean = sqrt_alphas_cumprod_t * x_0\n",
    "    variance = sqrt_one_minus_alphas_cumprod_t * noise\n",
    "    \n",
    "    return mean + variance, noise\n",
    "\n",
    "class SinusoidalPositionEmbeddings(nn.Module):\n",
    "    def __init__(self, dim):\n",
    "        super().__init__()\n",
    "        self.dim = dim\n",
    "\n",
    "    def forward(self, time):\n",
    "        device = time.device\n",
    "        half_dim = self.dim // 2\n",
    "        embeddings = math.log(10000) / (half_dim - 1)\n",
    "        embeddings = torch.exp(torch.arange(half_dim, device=device) * -embeddings)\n",
    "        embeddings = time[:, None] * embeddings[None, :]\n",
    "        embeddings = torch.cat((embeddings.sin(), embeddings.cos()), dim=-1)\n",
    "        return embeddings\n"
   ]
  },
  {
   "cell_type": "code",
   "execution_count": 8,
   "metadata": {},
   "outputs": [],
   "source": [
    "### --- Part 1: Unconditional DDPM (U-Net Model) --- ###\n",
    "# This is the standard noise-prediction U-Net. It is trained unconditionally,\n",
    "# meaning it does not use any class labels during its training.\n",
    "\n",
    "class Block(nn.Module):\n",
    "    def __init__(self, in_ch, out_ch, time_emb_dim, up=False):\n",
    "        super().__init__()\n",
    "        self.time_mlp =  nn.Linear(time_emb_dim, out_ch)\n",
    "        if up:\n",
    "            self.conv1 = nn.Conv2d(2*in_ch, out_ch, 3, padding=1)\n",
    "            self.transform = nn.ConvTranspose2d(out_ch, out_ch, 4, 2, 1)\n",
    "        else:\n",
    "            self.conv1 = nn.Conv2d(in_ch, out_ch, 3, padding=1)\n",
    "            self.transform = nn.Conv2d(out_ch, out_ch, 4, 2, 1)\n",
    "        self.conv2 = nn.Conv2d(out_ch, out_ch, 3, padding=1)\n",
    "        self.bn1 = nn.BatchNorm2d(out_ch)\n",
    "        self.bn2 = nn.BatchNorm2d(out_ch)\n",
    "        self.relu  = nn.ReLU()\n",
    "        \n",
    "    def forward(self, x, t):\n",
    "        h = self.bn1(self.relu(self.conv1(x)))\n",
    "        time_emb = self.relu(self.time_mlp(t))\n",
    "        time_emb = time_emb[(..., ) + (None, ) * 2]\n",
    "        h = h + time_emb\n",
    "        h = self.bn2(self.relu(self.conv2(h)))\n",
    "        return self.transform(h)\n",
    "\n",
    "class Unet(nn.Module):\n",
    "    def __init__(self):\n",
    "        super().__init__()\n",
    "        image_channels = 1\n",
    "        down_channels = (64, 128, 256)\n",
    "        up_channels = (256, 128, 64)\n",
    "        out_dim = 1 \n",
    "        time_emb_dim = 32\n",
    "\n",
    "        self.time_mlp = nn.Sequential(\n",
    "                SinusoidalPositionEmbeddings(time_emb_dim),\n",
    "                nn.Linear(time_emb_dim, time_emb_dim),\n",
    "                nn.ReLU()\n",
    "            )\n",
    "        self.conv0 = nn.Conv2d(image_channels, down_channels[0], 3, padding=1)\n",
    "        self.downs = nn.ModuleList([Block(down_channels[i], down_channels[i+1], time_emb_dim) for i in range(len(down_channels)-1)])\n",
    "        self.ups = nn.ModuleList([Block(up_channels[i], up_channels[i+1], time_emb_dim, up=True) for i in range(len(up_channels)-1)])\n",
    "        self.output = nn.Conv2d(up_channels[-1], image_channels, 1)\n",
    "\n",
    "    def forward(self, x, timestep):\n",
    "        t = self.time_mlp(timestep)\n",
    "        x = self.conv0(x)\n",
    "        residual_inputs = []\n",
    "        for down in self.downs:\n",
    "            x = down(x, t)\n",
    "            residual_inputs.append(x)\n",
    "        for up in self.ups:\n",
    "            residual_x = residual_inputs.pop()\n",
    "            x = torch.cat((x, residual_x), dim=1)           \n",
    "            x = up(x, t)\n",
    "        return self.output(x)\n",
    "\n",
    "# --- End of Part 1 ---\n",
    "# ====================="
   ]
  },
  {
   "cell_type": "code",
   "execution_count": 9,
   "metadata": {},
   "outputs": [],
   "source": [
    "### --- Part 2: Noise-Aware Classifier --- ###\n",
    "# This is a simple CNN classifier, but with a crucial modification: it takes the\n",
    "# timestep 't' as an input. It must be trained on noisy images to learn\n",
    "# how to classify them at any stage of the diffusion process.\n",
    "\n",
    "class NoisyClassifier(nn.Module):\n",
    "    def __init__(self, num_classes=10):\n",
    "        super().__init__()\n",
    "        time_emb_dim = 32\n",
    "        \n",
    "        # Time embedding, similar to the U-Net\n",
    "        self.time_mlp = nn.Sequential(\n",
    "            SinusoidalPositionEmbeddings(time_emb_dim),\n",
    "            nn.Linear(time_emb_dim, time_emb_dim),\n",
    "            nn.ReLU()\n",
    "        )\n",
    "        \n",
    "        # Standard CNN architecture\n",
    "        self.conv1 = nn.Conv2d(1, 16, kernel_size=3, stride=1, padding=1)\n",
    "        self.pool = nn.MaxPool2d(kernel_size=2, stride=2)\n",
    "        self.conv2 = nn.Conv2d(16, 32, kernel_size=3, stride=1, padding=1)\n",
    "        # The time embedding will be added after this layer\n",
    "        self.fc1 = nn.Linear(32 * 8 * 8, 256) \n",
    "        self.fc2 = nn.Linear(256, num_classes)\n",
    "        self.relu = nn.ReLU()\n",
    "\n",
    "    def forward(self, x, time):\n",
    "        # Embed the timestep\n",
    "        t_emb = self.time_mlp(time)\n",
    "        \n",
    "        x = self.pool(self.relu(self.conv1(x)))\n",
    "        x = self.pool(self.relu(self.conv2(x)))\n",
    "        \n",
    "        # Add time embedding to the features\n",
    "        # We need to process the time embedding to match the feature dimensions\n",
    "        t_emb_transformed = F.interpolate(t_emb.unsqueeze(-1).unsqueeze(-1), size=x.shape[2:], mode='nearest')\n",
    "        \n",
    "        x = x + t_emb_transformed\n",
    "        \n",
    "        x = x.view(-1, 32 * 8 * 8)\n",
    "        x = self.relu(self.fc1(x))\n",
    "        x = self.fc2(x)\n",
    "        \n",
    "        return x\n",
    "\n",
    "# --- End of Part 2 ---\n",
    "# ====================="
   ]
  },
  {
   "cell_type": "code",
   "execution_count": 10,
   "metadata": {},
   "outputs": [
    {
     "name": "stdout",
     "output_type": "stream",
     "text": [
      "--- Training Unconditional DDPM ---\n"
     ]
    },
    {
     "name": "stderr",
     "output_type": "stream",
     "text": [
      "DDPM Epoch 1: 100%|██████████| 468/468 [00:22<00:00, 20.74it/s]\n"
     ]
    },
    {
     "name": "stdout",
     "output_type": "stream",
     "text": [
      "DDPM Epoch 1 Loss: 0.0249\n"
     ]
    },
    {
     "name": "stderr",
     "output_type": "stream",
     "text": [
      "DDPM Epoch 2: 100%|██████████| 468/468 [00:22<00:00, 20.72it/s]\n"
     ]
    },
    {
     "name": "stdout",
     "output_type": "stream",
     "text": [
      "DDPM Epoch 2 Loss: 0.0220\n"
     ]
    },
    {
     "name": "stderr",
     "output_type": "stream",
     "text": [
      "DDPM Epoch 3: 100%|██████████| 468/468 [00:22<00:00, 20.69it/s]\n"
     ]
    },
    {
     "name": "stdout",
     "output_type": "stream",
     "text": [
      "DDPM Epoch 3 Loss: 0.0206\n"
     ]
    },
    {
     "name": "stderr",
     "output_type": "stream",
     "text": [
      "DDPM Epoch 4: 100%|██████████| 468/468 [00:22<00:00, 20.68it/s]\n"
     ]
    },
    {
     "name": "stdout",
     "output_type": "stream",
     "text": [
      "DDPM Epoch 4 Loss: 0.0263\n"
     ]
    },
    {
     "name": "stderr",
     "output_type": "stream",
     "text": [
      "DDPM Epoch 5: 100%|██████████| 468/468 [00:22<00:00, 20.68it/s]\n"
     ]
    },
    {
     "name": "stdout",
     "output_type": "stream",
     "text": [
      "DDPM Epoch 5 Loss: 0.0225\n"
     ]
    },
    {
     "name": "stderr",
     "output_type": "stream",
     "text": [
      "DDPM Epoch 6: 100%|██████████| 468/468 [00:22<00:00, 20.66it/s]\n"
     ]
    },
    {
     "name": "stdout",
     "output_type": "stream",
     "text": [
      "DDPM Epoch 6 Loss: 0.0176\n"
     ]
    },
    {
     "name": "stderr",
     "output_type": "stream",
     "text": [
      "DDPM Epoch 7: 100%|██████████| 468/468 [00:22<00:00, 20.68it/s]\n"
     ]
    },
    {
     "name": "stdout",
     "output_type": "stream",
     "text": [
      "DDPM Epoch 7 Loss: 0.0194\n"
     ]
    },
    {
     "name": "stderr",
     "output_type": "stream",
     "text": [
      "DDPM Epoch 8: 100%|██████████| 468/468 [00:22<00:00, 20.67it/s]\n"
     ]
    },
    {
     "name": "stdout",
     "output_type": "stream",
     "text": [
      "DDPM Epoch 8 Loss: 0.0228\n"
     ]
    },
    {
     "name": "stderr",
     "output_type": "stream",
     "text": [
      "DDPM Epoch 9: 100%|██████████| 468/468 [00:22<00:00, 20.67it/s]\n"
     ]
    },
    {
     "name": "stdout",
     "output_type": "stream",
     "text": [
      "DDPM Epoch 9 Loss: 0.0172\n"
     ]
    },
    {
     "name": "stderr",
     "output_type": "stream",
     "text": [
      "DDPM Epoch 10: 100%|██████████| 468/468 [00:22<00:00, 20.66it/s]\n"
     ]
    },
    {
     "name": "stdout",
     "output_type": "stream",
     "text": [
      "DDPM Epoch 10 Loss: 0.0200\n"
     ]
    },
    {
     "name": "stderr",
     "output_type": "stream",
     "text": [
      "DDPM Epoch 11: 100%|██████████| 468/468 [00:22<00:00, 20.66it/s]\n"
     ]
    },
    {
     "name": "stdout",
     "output_type": "stream",
     "text": [
      "DDPM Epoch 11 Loss: 0.0170\n"
     ]
    },
    {
     "name": "stderr",
     "output_type": "stream",
     "text": [
      "DDPM Epoch 12: 100%|██████████| 468/468 [00:22<00:00, 20.66it/s]\n"
     ]
    },
    {
     "name": "stdout",
     "output_type": "stream",
     "text": [
      "DDPM Epoch 12 Loss: 0.0165\n"
     ]
    },
    {
     "name": "stderr",
     "output_type": "stream",
     "text": [
      "DDPM Epoch 13: 100%|██████████| 468/468 [00:22<00:00, 20.66it/s]\n"
     ]
    },
    {
     "name": "stdout",
     "output_type": "stream",
     "text": [
      "DDPM Epoch 13 Loss: 0.0166\n"
     ]
    },
    {
     "name": "stderr",
     "output_type": "stream",
     "text": [
      "DDPM Epoch 14: 100%|██████████| 468/468 [00:22<00:00, 20.67it/s]\n"
     ]
    },
    {
     "name": "stdout",
     "output_type": "stream",
     "text": [
      "DDPM Epoch 14 Loss: 0.0188\n"
     ]
    },
    {
     "name": "stderr",
     "output_type": "stream",
     "text": [
      "DDPM Epoch 15: 100%|██████████| 468/468 [00:22<00:00, 20.67it/s]\n"
     ]
    },
    {
     "name": "stdout",
     "output_type": "stream",
     "text": [
      "DDPM Epoch 15 Loss: 0.0236\n",
      "\n",
      "--- Training Noise-Aware Classifier ---\n"
     ]
    },
    {
     "name": "stderr",
     "output_type": "stream",
     "text": [
      "Classifier Epoch 1: 100%|██████████| 468/468 [00:17<00:00, 27.39it/s]\n"
     ]
    },
    {
     "name": "stdout",
     "output_type": "stream",
     "text": [
      "Classifier Epoch 1 Loss: 1.1038\n"
     ]
    },
    {
     "name": "stderr",
     "output_type": "stream",
     "text": [
      "Classifier Epoch 2: 100%|██████████| 468/468 [00:16<00:00, 27.93it/s]\n"
     ]
    },
    {
     "name": "stdout",
     "output_type": "stream",
     "text": [
      "Classifier Epoch 2 Loss: 1.2069\n"
     ]
    },
    {
     "name": "stderr",
     "output_type": "stream",
     "text": [
      "Classifier Epoch 3: 100%|██████████| 468/468 [00:16<00:00, 28.38it/s]\n"
     ]
    },
    {
     "name": "stdout",
     "output_type": "stream",
     "text": [
      "Classifier Epoch 3 Loss: 1.3176\n"
     ]
    },
    {
     "name": "stderr",
     "output_type": "stream",
     "text": [
      "Classifier Epoch 4: 100%|██████████| 468/468 [00:16<00:00, 28.39it/s]\n"
     ]
    },
    {
     "name": "stdout",
     "output_type": "stream",
     "text": [
      "Classifier Epoch 4 Loss: 1.1682\n"
     ]
    },
    {
     "name": "stderr",
     "output_type": "stream",
     "text": [
      "Classifier Epoch 5: 100%|██████████| 468/468 [00:16<00:00, 27.96it/s]\n"
     ]
    },
    {
     "name": "stdout",
     "output_type": "stream",
     "text": [
      "Classifier Epoch 5 Loss: 0.9915\n"
     ]
    },
    {
     "name": "stderr",
     "output_type": "stream",
     "text": [
      "Classifier Epoch 6: 100%|██████████| 468/468 [00:16<00:00, 28.37it/s]\n"
     ]
    },
    {
     "name": "stdout",
     "output_type": "stream",
     "text": [
      "Classifier Epoch 6 Loss: 1.0803\n"
     ]
    },
    {
     "name": "stderr",
     "output_type": "stream",
     "text": [
      "Classifier Epoch 7: 100%|██████████| 468/468 [00:16<00:00, 28.08it/s]\n"
     ]
    },
    {
     "name": "stdout",
     "output_type": "stream",
     "text": [
      "Classifier Epoch 7 Loss: 1.0627\n"
     ]
    },
    {
     "name": "stderr",
     "output_type": "stream",
     "text": [
      "Classifier Epoch 8: 100%|██████████| 468/468 [00:17<00:00, 27.21it/s]\n"
     ]
    },
    {
     "name": "stdout",
     "output_type": "stream",
     "text": [
      "Classifier Epoch 8 Loss: 1.3573\n"
     ]
    },
    {
     "name": "stderr",
     "output_type": "stream",
     "text": [
      "Classifier Epoch 9: 100%|██████████| 468/468 [00:17<00:00, 26.99it/s]\n"
     ]
    },
    {
     "name": "stdout",
     "output_type": "stream",
     "text": [
      "Classifier Epoch 9 Loss: 1.0531\n"
     ]
    },
    {
     "name": "stderr",
     "output_type": "stream",
     "text": [
      "Classifier Epoch 10: 100%|██████████| 468/468 [00:16<00:00, 27.96it/s]"
     ]
    },
    {
     "name": "stdout",
     "output_type": "stream",
     "text": [
      "Classifier Epoch 10 Loss: 1.1952\n"
     ]
    },
    {
     "name": "stderr",
     "output_type": "stream",
     "text": [
      "\n"
     ]
    }
   ],
   "source": [
    "### --- Main Execution & Training --- ###\n",
    "if __name__ == '__main__':\n",
    "    # Hyperparameters\n",
    "    IMG_SIZE = 32\n",
    "    BATCH_SIZE = 128\n",
    "    TIMESTEPS = 1000\n",
    "    \n",
    "    # --- Prepare Diffusion Constants ---\n",
    "    betas = linear_beta_schedule(timesteps=TIMESTEPS)\n",
    "    alphas = 1. - betas\n",
    "    alphas_cumprod = torch.cumprod(alphas, axis=0)\n",
    "    alphas_cumprod_prev = F.pad(alphas_cumprod[:-1], (1, 0), value=1.0)\n",
    "    sqrt_alphas_cumprod = torch.sqrt(alphas_cumprod)\n",
    "    sqrt_one_minus_alphas_cumprod = torch.sqrt(1. - alphas_cumprod)\n",
    "    sqrt_recip_alphas = torch.sqrt(1.0 / alphas)\n",
    "    posterior_variance = betas * (1. - alphas_cumprod_prev) / (1. - alphas_cumprod)\n",
    "\n",
    "    # --- Load Data ---\n",
    "    transforms_mnist = transforms.Compose([\n",
    "        transforms.Resize((IMG_SIZE, IMG_SIZE)),\n",
    "        transforms.ToTensor(),\n",
    "        transforms.Normalize(mean=[0.5], std=[0.5])\n",
    "    ])\n",
    "    train_dataset = torchvision.datasets.MNIST(root='./data', train=True, download=True, transform=transforms_mnist)\n",
    "    train_loader = DataLoader(train_dataset, batch_size=BATCH_SIZE, shuffle=True, drop_last=True)\n",
    "    \n",
    "    # --- Initialize and Train Models ---\n",
    "    # For a real application, you would save/load these models.\n",
    "    # Here, we train them from scratch for a self-contained example.\n",
    "    \n",
    "    # 1. Train the Unconditional DDPM\n",
    "    ddpm_model = Unet().to(device)\n",
    "    optimizer_ddpm = optim.Adam(ddpm_model.parameters(), lr=0.001)\n",
    "    criterion_ddpm = nn.MSELoss()\n",
    "    DDPM_EPOCHS = 15 # Reduced for quicker demonstration\n",
    "\n",
    "    print(\"--- Training Unconditional DDPM ---\")\n",
    "    for epoch in range(DDPM_EPOCHS):\n",
    "        for step, (images, _) in enumerate(tqdm(train_loader, desc=f\"DDPM Epoch {epoch+1}\")):\n",
    "            optimizer_ddpm.zero_grad()\n",
    "            x0 = images.to(device)\n",
    "            t = torch.randint(0, TIMESTEPS, (x0.shape[0],), device=device).long()\n",
    "            xt, noise_target = forward_diffusion_sample(x0, t, sqrt_alphas_cumprod, sqrt_one_minus_alphas_cumprod)\n",
    "            predicted_noise = ddpm_model(xt, t)\n",
    "            loss = criterion_ddpm(noise_target, predicted_noise)\n",
    "            loss.backward()\n",
    "            optimizer_ddpm.step()\n",
    "        print(f\"DDPM Epoch {epoch+1} Loss: {loss.item():.4f}\")\n",
    "\n",
    "    # 2. Train the Noise-Aware Classifier\n",
    "    classifier_model = NoisyClassifier().to(device)\n",
    "    optimizer_classifier = optim.Adam(classifier_model.parameters(), lr=0.001)\n",
    "    criterion_classifier = nn.CrossEntropyLoss()\n",
    "    CLASSIFIER_EPOCHS = 10 # Reduced for quicker demonstration\n",
    "\n",
    "    print(\"\\n--- Training Noise-Aware Classifier ---\")\n",
    "    for epoch in range(CLASSIFIER_EPOCHS):\n",
    "        for step, (images, labels) in enumerate(tqdm(train_loader, desc=f\"Classifier Epoch {epoch+1}\")):\n",
    "            optimizer_classifier.zero_grad()\n",
    "            x0 = images.to(device)\n",
    "            y = labels.to(device)\n",
    "            t = torch.randint(0, TIMESTEPS, (x0.shape[0],), device=device).long()\n",
    "            \n",
    "            # Create noisy images to train the classifier on\n",
    "            xt, _ = forward_diffusion_sample(x0, t, sqrt_alphas_cumprod, sqrt_one_minus_alphas_cumprod)\n",
    "            \n",
    "            # Predict labels from noisy images\n",
    "            predicted_labels = classifier_model(xt, t)\n",
    "            loss = criterion_classifier(predicted_labels, y)\n",
    "            loss.backward()\n",
    "            optimizer_classifier.step()\n",
    "        print(f\"Classifier Epoch {epoch+1} Loss: {loss.item():.4f}\")\n",
    "\n"
   ]
  },
  {
   "cell_type": "code",
   "execution_count": 12,
   "metadata": {},
   "outputs": [
    {
     "name": "stdout",
     "output_type": "stream",
     "text": [
      "\n",
      "--- Starting Guided Generation for class: 9 with scale: 2.0 ---\n"
     ]
    },
    {
     "name": "stderr",
     "output_type": "stream",
     "text": [
      "Guided Sampling: 100%|██████████| 1000/1000 [00:05<00:00, 199.41it/s]\n"
     ]
    },
    {
     "data": {
      "image/png": "[encoded data removed]",
      "text/plain": [
       "<Figure size 800x800 with 16 Axes>"
      ]
     },
     "metadata": {},
     "output_type": "display_data"
    }
   ],
   "source": [
    "@torch.no_grad()\n",
    "def guided_sample(target_class, guidance_scale=2.0, num_images=16):\n",
    "    \"\"\"\n",
    "    Part 3: Classifier-Guided Sampling\n",
    "    Generate `num_images` samples of a given `target_class` by steering\n",
    "    the DDPM reverse process with gradients from a noise-aware classifier.\n",
    "    \"\"\"\n",
    "    # Log the sampling configuration\n",
    "    print(f\"\\n--- Starting Guided Generation for class: {target_class} with scale: {guidance_scale} ---\")\n",
    "    \n",
    "    # Put both models into evaluation mode (disable dropout/BatchNorm updates)\n",
    "    ddpm_model.eval()\n",
    "    classifier_model.eval()\n",
    "\n",
    "    # 1) Initialize with pure Gaussian noise: x_T ~ N(0, I)\n",
    "    img = torch.randn((num_images, 1, IMG_SIZE, IMG_SIZE), device=device)\n",
    "    \n",
    "    # 2) Create a tensor `y` of the target class for all images\n",
    "    y = torch.full((num_images,), target_class, device=device, dtype=torch.long)\n",
    "\n",
    "    # 3) Iterate timesteps from T-1 down to 0\n",
    "    for i in tqdm(reversed(range(0, TIMESTEPS)), desc=\"Guided Sampling\", total=TIMESTEPS):\n",
    "        # a) Prepare a tensor of the current timestep index\n",
    "        t = torch.full((num_images,), i, device=device, dtype=torch.long)\n",
    "        \n",
    "        # --- Step 1: Unconditional DDPM prediction ---\n",
    "        # Predict noise ε_θ(x_t, t) without gradient tracking\n",
    "        with torch.no_grad():\n",
    "            predicted_noise = ddpm_model(img, t)  # ε_pred shape: [B, C, H, W]\n",
    "\n",
    "        # Retrieve schedule scalars for this timestep:\n",
    "        #   β_t\n",
    "        betas_t = get_index_from_list(betas, t, img.shape)\n",
    "        #   √(1 − ᾱ_t)\n",
    "        sqrt_one_minus_alphas_cumprod_t = get_index_from_list(sqrt_one_minus_alphas_cumprod, t, img.shape)\n",
    "        #   1 / √(α_t)\n",
    "        sqrt_recip_alphas_t = get_index_from_list(sqrt_recip_alphas, t, img.shape)\n",
    "\n",
    "        # Compute the unconditional reverse mean:\n",
    "        # μ_uncond = (1/√α_t) * ( x_t − (β_t / √(1−ᾱ_t)) * ε_pred )\n",
    "        unconditional_mean = sqrt_recip_alphas_t * (\n",
    "            img - betas_t * predicted_noise / sqrt_one_minus_alphas_cumprod_t\n",
    "        )\n",
    "\n",
    "        # --- Step 2: Compute classifier gradient for guidance ---\n",
    "        # We enable gradients on `img` to get ∇_{x_t} log p(y | x_t)\n",
    "        with torch.enable_grad():\n",
    "            img_with_grad = img.detach().requires_grad_(True)\n",
    "            logits = classifier_model(img_with_grad, t)          # shape: [B, num_classes]\n",
    "            log_probs = F.log_softmax(logits, dim=-1)            # log p_φ(y|x_t)\n",
    "            selected_log_probs = log_probs[torch.arange(num_images), y]\n",
    "            # classifier_grad = ∂/∂x_t ∑ log p_φ(y|x_t)\n",
    "            classifier_grad = torch.autograd.grad(\n",
    "                selected_log_probs.sum(), img_with_grad\n",
    "            )[0]  # same shape as img: [B, C, H, W]\n",
    "        \n",
    "        # --- Step 3: Combine means with guidance nudge ---\n",
    "        # Retrieve posterior variance Var[x_{t-1} | x_t]\n",
    "        posterior_variance_t = get_index_from_list(posterior_variance, t, img.shape)\n",
    "        # guidance_nudge = guidance_scale * variance * ∇ log p_φ(y|x_t)\n",
    "        guidance_nudge = guidance_scale * posterior_variance_t * classifier_grad\n",
    "        \n",
    "        # μ_guided = μ_uncond + guidance_nudge\n",
    "        guided_mean = unconditional_mean + guidance_nudge\n",
    "\n",
    "        # --- Step 4: Sample the next image x_{t-1} ---\n",
    "        if i == 0:\n",
    "            # At final step, no additional noise\n",
    "            img = guided_mean\n",
    "        else:\n",
    "            # Inject Gaussian noise: x_{t-1} = μ_guided + √variance * z\n",
    "            noise = torch.randn_like(img)\n",
    "            img = guided_mean + torch.sqrt(posterior_variance_t) * noise\n",
    "    \n",
    "    # Return models to training mode\n",
    "    ddpm_model.train()\n",
    "    classifier_model.train()\n",
    "    \n",
    "    # 5) Map pixel range from [-1, 1] back to [0, 1]\n",
    "    img = (img + 1) * 0.5\n",
    "    img = img.clamp(0, 1)\n",
    "    return img\n",
    "\n",
    "# --- Generate and Plot Images ---\n",
    "target_digit = 9 # Change this to generate a different digit\n",
    "generated_images = guided_sample(target_class=target_digit, guidance_scale=2.0)\n",
    "\n",
    "plt.figure(figsize=(8, 8))\n",
    "for i in range(16):\n",
    "    plt.subplot(4, 4, i+1)\n",
    "    plt.imshow(generated_images[i].cpu().squeeze(), cmap='gray')\n",
    "    plt.axis('off')\n",
    "plt.suptitle(f\"Generated Digit '{target_digit}' using Classifier Guidance\")\n",
    "plt.tight_layout(rect=[0, 0.03, 1, 0.95])\n",
    "plt.show()"
   ]
  }
 ],
 "metadata": {
  "kernelspec": {
   "display_name": "raghava",
   "language": "python",
   "name": "python3"
  },
  "language_info": {
   "codemirror_mode": {
    "name": "ipython",
    "version": 3
   },
   "file_extension": ".py",
   "mimetype": "text/x-python",
   "name": "python",
   "nbconvert_exporter": "python",
   "pygments_lexer": "ipython3",
   "version": "3.9.19"
  }
 },
 "nbformat": 4,
 "nbformat_minor": 2
}
