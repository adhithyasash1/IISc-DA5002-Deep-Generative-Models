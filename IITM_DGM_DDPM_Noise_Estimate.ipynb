{
 "cells": [
  {
   "cell_type": "code",
   "execution_count": 1,
   "metadata": {},
   "outputs": [
    {
     "name": "stderr",
     "output_type": "stream",
     "text": [
      "/raid/home/chandanj/miniconda3/envs/raghava/lib/python3.9/site-packages/tqdm/auto.py:21: TqdmWarning: IProgress not found. Please update jupyter and ipywidgets. See https://ipywidgets.readthedocs.io/en/stable/user_install.html\n",
      "  from .autonotebook import tqdm as notebook_tqdm\n"
     ]
    }
   ],
   "source": [
    "import torch\n",
    "import torch.nn as nn\n",
    "import torch.nn.functional as F\n",
    "import torch.optim as optim\n",
    "import torchvision\n",
    "import torchvision.transforms as transforms\n",
    "from torch.utils.data import DataLoader\n",
    "import numpy as np\n",
    "import matplotlib.pyplot as plt\n",
    "from tqdm import tqdm\n",
    "import math\n",
    "\n",
    "# Set device \n",
    "device = \"cuda:1\"\n",
    "\n",
    "### 1. Diffusion Scheduler ###\n",
    "# ----------------------------\n",
    "# Manages the noise schedule and the forward (noising) process.\n",
    "\n",
    "def linear_beta_schedule(timesteps, start=0.0001, end=0.02):\n",
    "    \"\"\"\n",
    "    Creates a linear schedule for beta, the noise variance.\n",
    "    \"\"\"\n",
    "    return torch.linspace(start, end, timesteps)\n",
    "\n",
    "def get_index_from_list(vals, t, x_shape):\n",
    "    \"\"\"\n",
    "    vals:    a 1-D tensor of length T (e.g. betas, alphas, or any T-long schedule).\n",
    "    t:       a LongTensor of shape [B] with timestep indices (each in 0…T-1).\n",
    "    x_shape: the shape of the noised image batch, e.g. [B, C, H, W].\n",
    "    \"\"\"\n",
    "    batch_size = t.shape[0]              # B\n",
    "\n",
    "    # 1) Gather the t-th element from `vals` for each batch entry.\n",
    "    #    vals.gather(-1, t_cpu) returns shape [B]\n",
    "    out = vals.gather(-1, t.cpu())\n",
    "\n",
    "    # 2) Reshape [B] → [B, 1, 1, 1, …] so it can multiply an image tensor of shape x_shape.\n",
    "    #    We keep B, then insert (len(x_shape)-1) singleton dims:\n",
    "    #      e.g. if x_shape=[B,C,H,W] → reshape to [B,1,1,1]\n",
    "    out = out.reshape(batch_size, *((1,) * (len(x_shape) - 1)))\n",
    "\n",
    "    # 3) Move back to the original device (GPU/CPU) if needed:\n",
    "    return out.to(t.device)\n",
    "\n",
    "# --- Forward Process (q) ---\n",
    "def forward_diffusion_sample(x_0, t, sqrt_alphas_cumprod, sqrt_one_minus_alphas_cumprod):\n",
    "    \"\"\"\n",
    "    Takes a clean image and a timestep and returns a noisy version of the image.\n",
    "    This is based on the closed-form formula: x_t = sqrt(alpha_bar_t) * x_0 + sqrt(1 - alpha_bar_t) * N(0, I)\n",
    "    It also returns the noise that was added, which will be the target for our model.\n",
    "    \"\"\"\n",
    "    # Sample random noise from a standard normal distribution\n",
    "    noise = torch.randn_like(x_0)\n",
    "\n",
    "    # Get the sqrt(alpha_bar_t) value for the given timestep t\n",
    "    sqrt_alphas_cumprod_t = get_index_from_list(sqrt_alphas_cumprod, t, x_0.shape)\n",
    "    \n",
    "    # Get the sqrt(1 - alpha_bar_t) value\n",
    "    sqrt_one_minus_alphas_cumprod_t = get_index_from_list(\n",
    "        sqrt_one_minus_alphas_cumprod, t, x_0.shape\n",
    "    )\n",
    "\n",
    "    # Compute the noisy image x_t\n",
    "    mean = sqrt_alphas_cumprod_t * x_0\n",
    "    variance = sqrt_one_minus_alphas_cumprod_t * noise\n",
    "    \n",
    "    # Return the noisy image and the noise that was added\n",
    "    return mean + variance, noise"
   ]
  },
  {
   "cell_type": "code",
   "execution_count": 2,
   "metadata": {},
   "outputs": [],
   "source": [
    "### 2. U-Net Model Architecture ###\n",
    "# ---------------------------------\n",
    "# The U-Net's job is to take a noisy image and a timestep embedding\n",
    "# and predict the noise that was added to the original image.\n",
    "\n",
    "\n",
    "class Block(nn.Module):\n",
    "    def __init__(self, in_ch, out_ch, time_emb_dim, up=False):\n",
    "        super().__init__()\n",
    "\n",
    "        # A tiny MLP that maps the time embedding into a per-channel bias\n",
    "        self.time_mlp = nn.Linear(time_emb_dim, out_ch)\n",
    "\n",
    "        if up:\n",
    "            # If this block is an “upsampling” block:\n",
    "            #   - conv1 takes concatenated features (from skip-connection)\n",
    "            self.conv1     = nn.Conv2d(2*in_ch, out_ch, kernel_size=3, padding=1)\n",
    "            #   - transform upsamples spatially by factor 2\n",
    "            self.transform = nn.ConvTranspose2d(out_ch, out_ch, kernel_size=4, stride=2, padding=1)\n",
    "        else:\n",
    "            # If this block is a “downsampling” block:\n",
    "            #   - conv1 takes normal in_ch → out_ch\n",
    "            self.conv1     = nn.Conv2d(in_ch, out_ch, kernel_size=3, padding=1)\n",
    "            #   - transform downsamples spatially by factor 2\n",
    "            self.transform = nn.Conv2d(out_ch, out_ch, kernel_size=4, stride=2, padding=1)\n",
    "\n",
    "        # A second 3×3 conv to refine features after adding time\n",
    "        self.conv2 = nn.Conv2d(out_ch, out_ch, kernel_size=3, padding=1)\n",
    "\n",
    "        # BatchNorm + ReLU after each conv for stable training\n",
    "        self.bn1   = nn.BatchNorm2d(out_ch)\n",
    "        self.bn2   = nn.BatchNorm2d(out_ch)\n",
    "        self.relu  = nn.ReLU()\n",
    "\n",
    "    def forward(self, x, t):\n",
    "        # 1) First conv → BN → ReLU\n",
    "        h = self.conv1(x)\n",
    "        h = self.bn1(h)\n",
    "        h = self.relu(h)\n",
    "\n",
    "        # 2) Compute a channel-wise bias from the timestep embedding\n",
    "        #    t is shape [B, time_emb_dim]; after MLP: [B, out_ch]\n",
    "        time_emb = self.time_mlp(t)\n",
    "        time_emb = self.relu(time_emb)\n",
    "\n",
    "        # 3) Reshape time_emb to [B, out_ch, 1, 1] so we can add it per-channel\n",
    "        time_emb = time_emb[..., None, None]\n",
    "\n",
    "        # 4) Add the time bias to every spatial location\n",
    "        h = h + time_emb\n",
    "\n",
    "        # 5) Second conv → BN → ReLU\n",
    "        h = self.conv2(h)\n",
    "        h = self.bn2(h)\n",
    "        h = self.relu(h)\n",
    "\n",
    "        # 6) Finally, either upsample or downsample by 2×\n",
    "        return self.transform(h)\n",
    "    \n",
    "class SinusoidalPositionEmbeddings(nn.Module):\n",
    "    def __init__(self, dim):\n",
    "        super().__init__()\n",
    "        # dim: the total size of the output embedding (must be even)\n",
    "        self.dim = dim\n",
    "\n",
    "    def forward(self, time):\n",
    "        \"\"\"\n",
    "        time: a 1D tensor of shape [batch_size] containing scalar timestep indices.\n",
    "        returns: a tensor of shape [batch_size, dim] with sinusoidal embeddings.\n",
    "        \"\"\"\n",
    "        # 1) Figure out which device (CPU/GPU) to put our tensors on\n",
    "        device = time.device\n",
    "\n",
    "        # 2) We split the embedding dimension in half: one half for sin(), one half for cos()\n",
    "        half_dim = self.dim // 2\n",
    "\n",
    "        # 3) Compute the frequency “scale” term:\n",
    "        #    log(10000) / (half_dim - 1) sets the base for the geometric progression of frequencies\n",
    "        freq_scale = math.log(10000) / (half_dim - 1)\n",
    "\n",
    "        # 4) Create a tensor of shape [half_dim] containing [0, 1, 2, …, half_dim-1]\n",
    "        #    multiplied by -freq_scale, so that exp(...) gives us frequencies that\n",
    "        #    increase geometrically from 1 to 1/10000.\n",
    "        inv_freq = torch.exp(torch.arange(half_dim, device=device) * -freq_scale)\n",
    "\n",
    "        # 5) Outer‐product: for each batch index t we multiply by each inverse frequency\n",
    "        #    Resulting shape: [batch_size, half_dim]\n",
    "        sinusoid_input = time[:, None] * inv_freq[None, :]\n",
    "\n",
    "        # 6) Apply sin to the first half, cos to the second half, and concatenate:\n",
    "        #    gives a [batch_size, half_dim*2 = dim] embedding\n",
    "        emb = torch.cat([sinusoid_input.sin(), sinusoid_input.cos()], dim=-1)\n",
    "\n",
    "        return emb"
   ]
  },
  {
   "cell_type": "code",
   "execution_count": 3,
   "metadata": {},
   "outputs": [],
   "source": [
    "class SimpleUnet(nn.Module):\n",
    "    def __init__(self):\n",
    "        super().__init__()\n",
    "        image_channels = 1\n",
    "        down_channels = (64, 128, 256)\n",
    "        up_channels = (256, 128, 64)\n",
    "        out_dim = 1 \n",
    "        time_emb_dim = 32\n",
    "\n",
    "        self.time_mlp = nn.Sequential(\n",
    "                SinusoidalPositionEmbeddings(time_emb_dim),\n",
    "                nn.Linear(time_emb_dim, time_emb_dim),\n",
    "                nn.ReLU()\n",
    "            )\n",
    "        self.conv0 = nn.Conv2d(image_channels, down_channels[0], 3, padding=1)\n",
    "        self.downs = nn.ModuleList([Block(down_channels[i], down_channels[i+1], time_emb_dim) for i in range(len(down_channels)-1)])\n",
    "        self.ups = nn.ModuleList([Block(up_channels[i], up_channels[i+1], time_emb_dim, up=True) for i in range(len(up_channels)-1)])\n",
    "        # The output of the model is the predicted noise, which has the same dimensions as the input image.\n",
    "        self.output = nn.Conv2d(up_channels[-1], image_channels, 1)\n",
    "\n",
    "    def forward(self, x, timestep):\n",
    "        t = self.time_mlp(timestep)\n",
    "        x = self.conv0(x)\n",
    "        residual_inputs = []\n",
    "        for down in self.downs:\n",
    "            x = down(x, t)\n",
    "            residual_inputs.append(x)\n",
    "        for up in self.ups:\n",
    "            residual_x = residual_inputs.pop()\n",
    "            x = torch.cat((x, residual_x), dim=1)           \n",
    "            x = up(x, t)\n",
    "        return self.output(x)\n"
   ]
  },
  {
   "cell_type": "code",
   "execution_count": 4,
   "metadata": {},
   "outputs": [],
   "source": [
    "### 3. Training ###\n",
    "# -----------------\n",
    "\n",
    "# Hyperparameters\n",
    "IMG_SIZE = 32\n",
    "BATCH_SIZE = 128\n",
    "EPOCHS = 25\n",
    "LR = 0.001\n",
    "TIMESTEPS = 600\n",
    "\n",
    "# --- Prepare Diffusion Schedule Constants ---\n",
    "betas = linear_beta_schedule(timesteps=TIMESTEPS)\n",
    "alphas = 1. - betas\n",
    "alphas_cumprod = torch.cumprod(alphas, axis=0)\n",
    "alphas_cumprod_prev = F.pad(alphas_cumprod[:-1], (1, 0), value=1.0)\n",
    "\n",
    "# Constants needed for the forward process\n",
    "sqrt_alphas_cumprod = torch.sqrt(alphas_cumprod)\n",
    "sqrt_one_minus_alphas_cumprod = torch.sqrt(1. - alphas_cumprod)\n",
    "\n",
    "# Constants needed for the reverse process (sampling)\n",
    "sqrt_recip_alphas = torch.sqrt(1.0 / alphas)\n",
    "posterior_variance = betas * (1. - alphas_cumprod_prev) / (1. - alphas_cumprod)\n",
    "\n",
    "# --- Load Data ---\n",
    "transforms_mnist = transforms.Compose([\n",
    "    transforms.Resize((IMG_SIZE, IMG_SIZE)),\n",
    "    transforms.ToTensor(),\n",
    "    transforms.Normalize(mean=[0.5], std=[0.5]) # Normalize to [-1, 1]\n",
    "])\n",
    "train_dataset = torchvision.datasets.MNIST(root='./data', train=True, download=True, transform=transforms_mnist)\n",
    "train_loader = DataLoader(train_dataset, batch_size=BATCH_SIZE, shuffle=True, drop_last=True)\n",
    "\n",
    "# --- Initialize Model, Optimizer, Loss ---\n",
    "model = SimpleUnet().to(device)\n",
    "optimizer = optim.Adam(model.parameters(), lr=LR)\n",
    "# The loss is the Mean Squared Error between the true noise and the predicted noise.\n",
    "criterion = nn.MSELoss()\n",
    "loss_history = []\n"
   ]
  },
  {
   "cell_type": "code",
   "execution_count": 5,
   "metadata": {},
   "outputs": [
    {
     "name": "stdout",
     "output_type": "stream",
     "text": [
      "Training started (Noise Estimation Method)...\n"
     ]
    },
    {
     "name": "stderr",
     "output_type": "stream",
     "text": [
      "Epoch 1/25: 100%|██████████| 468/468 [00:37<00:00, 12.36it/s]\n"
     ]
    },
    {
     "name": "stdout",
     "output_type": "stream",
     "text": [
      "Epoch 1 Average Loss: 0.0635\n"
     ]
    },
    {
     "name": "stderr",
     "output_type": "stream",
     "text": [
      "Epoch 2/25: 100%|██████████| 468/468 [00:37<00:00, 12.63it/s]\n"
     ]
    },
    {
     "name": "stdout",
     "output_type": "stream",
     "text": [
      "Epoch 2 Average Loss: 0.0330\n"
     ]
    },
    {
     "name": "stderr",
     "output_type": "stream",
     "text": [
      "Epoch 3/25: 100%|██████████| 468/468 [00:36<00:00, 12.86it/s]\n"
     ]
    },
    {
     "name": "stdout",
     "output_type": "stream",
     "text": [
      "Epoch 3 Average Loss: 0.0293\n"
     ]
    },
    {
     "name": "stderr",
     "output_type": "stream",
     "text": [
      "Epoch 4/25: 100%|██████████| 468/468 [00:36<00:00, 12.83it/s]\n"
     ]
    },
    {
     "name": "stdout",
     "output_type": "stream",
     "text": [
      "Epoch 4 Average Loss: 0.0281\n"
     ]
    },
    {
     "name": "stderr",
     "output_type": "stream",
     "text": [
      "Epoch 5/25: 100%|██████████| 468/468 [00:36<00:00, 12.81it/s]\n"
     ]
    },
    {
     "name": "stdout",
     "output_type": "stream",
     "text": [
      "Epoch 5 Average Loss: 0.0269\n"
     ]
    },
    {
     "name": "stderr",
     "output_type": "stream",
     "text": [
      "Epoch 6/25: 100%|██████████| 468/468 [00:37<00:00, 12.57it/s]\n"
     ]
    },
    {
     "name": "stdout",
     "output_type": "stream",
     "text": [
      "Epoch 6 Average Loss: 0.0262\n"
     ]
    },
    {
     "name": "stderr",
     "output_type": "stream",
     "text": [
      "Epoch 7/25: 100%|██████████| 468/468 [00:37<00:00, 12.53it/s]\n"
     ]
    },
    {
     "name": "stdout",
     "output_type": "stream",
     "text": [
      "Epoch 7 Average Loss: 0.0256\n"
     ]
    },
    {
     "name": "stderr",
     "output_type": "stream",
     "text": [
      "Epoch 8/25: 100%|██████████| 468/468 [00:36<00:00, 12.67it/s]\n"
     ]
    },
    {
     "name": "stdout",
     "output_type": "stream",
     "text": [
      "Epoch 8 Average Loss: 0.0251\n"
     ]
    },
    {
     "name": "stderr",
     "output_type": "stream",
     "text": [
      "Epoch 9/25: 100%|██████████| 468/468 [00:38<00:00, 12.07it/s]\n"
     ]
    },
    {
     "name": "stdout",
     "output_type": "stream",
     "text": [
      "Epoch 9 Average Loss: 0.0246\n"
     ]
    },
    {
     "name": "stderr",
     "output_type": "stream",
     "text": [
      "Epoch 10/25: 100%|██████████| 468/468 [00:37<00:00, 12.58it/s]\n"
     ]
    },
    {
     "name": "stdout",
     "output_type": "stream",
     "text": [
      "Epoch 10 Average Loss: 0.0247\n"
     ]
    },
    {
     "name": "stderr",
     "output_type": "stream",
     "text": [
      "Epoch 11/25: 100%|██████████| 468/468 [00:37<00:00, 12.43it/s]\n"
     ]
    },
    {
     "name": "stdout",
     "output_type": "stream",
     "text": [
      "Epoch 11 Average Loss: 0.0243\n"
     ]
    },
    {
     "name": "stderr",
     "output_type": "stream",
     "text": [
      "Epoch 12/25: 100%|██████████| 468/468 [00:38<00:00, 12.12it/s]\n"
     ]
    },
    {
     "name": "stdout",
     "output_type": "stream",
     "text": [
      "Epoch 12 Average Loss: 0.0239\n"
     ]
    },
    {
     "name": "stderr",
     "output_type": "stream",
     "text": [
      "Epoch 13/25: 100%|██████████| 468/468 [00:37<00:00, 12.53it/s]\n"
     ]
    },
    {
     "name": "stdout",
     "output_type": "stream",
     "text": [
      "Epoch 13 Average Loss: 0.0238\n"
     ]
    },
    {
     "name": "stderr",
     "output_type": "stream",
     "text": [
      "Epoch 14/25: 100%|██████████| 468/468 [00:36<00:00, 12.78it/s]\n"
     ]
    },
    {
     "name": "stdout",
     "output_type": "stream",
     "text": [
      "Epoch 14 Average Loss: 0.0233\n"
     ]
    },
    {
     "name": "stderr",
     "output_type": "stream",
     "text": [
      "Epoch 15/25: 100%|██████████| 468/468 [00:37<00:00, 12.57it/s]\n"
     ]
    },
    {
     "name": "stdout",
     "output_type": "stream",
     "text": [
      "Epoch 15 Average Loss: 0.0237\n"
     ]
    },
    {
     "name": "stderr",
     "output_type": "stream",
     "text": [
      "Epoch 16/25: 100%|██████████| 468/468 [00:37<00:00, 12.54it/s]\n"
     ]
    },
    {
     "name": "stdout",
     "output_type": "stream",
     "text": [
      "Epoch 16 Average Loss: 0.0231\n"
     ]
    },
    {
     "name": "stderr",
     "output_type": "stream",
     "text": [
      "Epoch 17/25: 100%|██████████| 468/468 [00:36<00:00, 12.72it/s]\n"
     ]
    },
    {
     "name": "stdout",
     "output_type": "stream",
     "text": [
      "Epoch 17 Average Loss: 0.0231\n"
     ]
    },
    {
     "name": "stderr",
     "output_type": "stream",
     "text": [
      "Epoch 18/25: 100%|██████████| 468/468 [00:36<00:00, 12.73it/s]\n"
     ]
    },
    {
     "name": "stdout",
     "output_type": "stream",
     "text": [
      "Epoch 18 Average Loss: 0.0231\n"
     ]
    },
    {
     "name": "stderr",
     "output_type": "stream",
     "text": [
      "Epoch 19/25: 100%|██████████| 468/468 [00:36<00:00, 12.87it/s]\n"
     ]
    },
    {
     "name": "stdout",
     "output_type": "stream",
     "text": [
      "Epoch 19 Average Loss: 0.0230\n"
     ]
    },
    {
     "name": "stderr",
     "output_type": "stream",
     "text": [
      "Epoch 20/25: 100%|██████████| 468/468 [00:36<00:00, 12.87it/s]\n"
     ]
    },
    {
     "name": "stdout",
     "output_type": "stream",
     "text": [
      "Epoch 20 Average Loss: 0.0227\n"
     ]
    },
    {
     "name": "stderr",
     "output_type": "stream",
     "text": [
      "Epoch 21/25: 100%|██████████| 468/468 [00:36<00:00, 12.75it/s]\n"
     ]
    },
    {
     "name": "stdout",
     "output_type": "stream",
     "text": [
      "Epoch 21 Average Loss: 0.0227\n"
     ]
    },
    {
     "name": "stderr",
     "output_type": "stream",
     "text": [
      "Epoch 22/25: 100%|██████████| 468/468 [00:36<00:00, 12.78it/s]\n"
     ]
    },
    {
     "name": "stdout",
     "output_type": "stream",
     "text": [
      "Epoch 22 Average Loss: 0.0225\n"
     ]
    },
    {
     "name": "stderr",
     "output_type": "stream",
     "text": [
      "Epoch 23/25: 100%|██████████| 468/468 [00:37<00:00, 12.53it/s]\n"
     ]
    },
    {
     "name": "stdout",
     "output_type": "stream",
     "text": [
      "Epoch 23 Average Loss: 0.0224\n"
     ]
    },
    {
     "name": "stderr",
     "output_type": "stream",
     "text": [
      "Epoch 24/25: 100%|██████████| 468/468 [00:37<00:00, 12.52it/s]\n"
     ]
    },
    {
     "name": "stdout",
     "output_type": "stream",
     "text": [
      "Epoch 24 Average Loss: 0.0222\n"
     ]
    },
    {
     "name": "stderr",
     "output_type": "stream",
     "text": [
      "Epoch 25/25: 100%|██████████| 468/468 [00:38<00:00, 12.10it/s]\n"
     ]
    },
    {
     "name": "stdout",
     "output_type": "stream",
     "text": [
      "Epoch 25 Average Loss: 0.0225\n",
      "Training finished.\n"
     ]
    },
    {
     "data": {
      "image/png": "[encoded data removed]",
      "text/plain": [
       "<Figure size 1000x500 with 1 Axes>"
      ]
     },
     "metadata": {},
     "output_type": "display_data"
    }
   ],
   "source": [
    "# --- Training Loop ---\n",
    "print(\"Training started (Noise Estimation Method)...\")\n",
    "for epoch in range(EPOCHS):\n",
    "    epoch_loss = 0.0\n",
    "    for step, (images, _) in enumerate(tqdm(train_loader, desc=f\"Epoch {epoch+1}/{EPOCHS}\")):\n",
    "        optimizer.zero_grad()\n",
    "\n",
    "        # 1. Get a batch of clean images x0 and move to device\n",
    "        x0 = images.to(device)\n",
    "\n",
    "        # 2. Sample a random timestep t for each image\n",
    "        t = torch.randint(0, TIMESTEPS, (BATCH_SIZE,), device=device).long()\n",
    "        \n",
    "        # 3. Create noisy images x_t and get the added noise (our target)\n",
    "        xt, noise_target = forward_diffusion_sample(x0, t, sqrt_alphas_cumprod, sqrt_one_minus_alphas_cumprod)\n",
    "\n",
    "        # 4. Predict the noise using the U-Net model\n",
    "        predicted_noise = model(xt, t)\n",
    "\n",
    "        # 5. Calculate the loss between the model's prediction and the actual noise\n",
    "        loss = criterion(noise_target, predicted_noise)\n",
    "        \n",
    "        # 6. Backpropagate and update weights\n",
    "        loss.backward()\n",
    "        optimizer.step()\n",
    "        \n",
    "        epoch_loss += loss.item()\n",
    "        \n",
    "    avg_epoch_loss = epoch_loss / len(train_loader)\n",
    "    loss_history.append(avg_epoch_loss)\n",
    "    print(f\"Epoch {epoch+1} Average Loss: {avg_epoch_loss:.4f}\")\n",
    "\n",
    "print(\"Training finished.\")\n",
    "\n",
    "# --- Plot Loss Curve ---\n",
    "plt.figure(figsize=(10, 5))\n",
    "plt.plot(loss_history)\n",
    "plt.title(\"Training Loss Curve (Noise Estimation)\")\n",
    "plt.xlabel(\"Epochs\")\n",
    "plt.ylabel(\"MSE Loss\")\n",
    "plt.grid(True)\n",
    "plt.show()\n"
   ]
  },
  {
   "cell_type": "code",
   "execution_count": 6,
   "metadata": {},
   "outputs": [
    {
     "name": "stdout",
     "output_type": "stream",
     "text": [
      "Generating images...\n"
     ]
    },
    {
     "name": "stderr",
     "output_type": "stream",
     "text": [
      "Sampling: 100%|██████████| 600/600 [00:02<00:00, 280.59it/s]\n"
     ]
    },
    {
     "data": {
      "image/png": "[encoded data removed]",
      "text/plain": [
       "<Figure size 800x800 with 16 Axes>"
      ]
     },
     "metadata": {},
     "output_type": "display_data"
    }
   ],
   "source": [
    "### 4. Image Generation (Sampling) ###\n",
    "# ------------------------------------\n",
    "# To generate an image, we perform the reverse diffusion process.\n",
    "# We start with pure noise and denoise it over T timesteps using the trained model.\n",
    "\n",
    "@torch.no_grad()\n",
    "def sample_timestep(x, t):\n",
    "    \"\"\"\n",
    "    Core sampling function for a single timestep.\n",
    "    It predicts the noise and uses it to calculate the image for the previous timestep.\n",
    "    Formula: x_{t-1} = 1/sqrt(alpha_t) * (x_t - (beta_t/sqrt(1-alpha_bar_t)) * pred_noise) + sqrt(beta_t) * Z\n",
    "    \"\"\"\n",
    "    betas_t = get_index_from_list(betas, t, x.shape)\n",
    "    sqrt_one_minus_alphas_cumprod_t = get_index_from_list(\n",
    "        sqrt_one_minus_alphas_cumprod, t, x.shape\n",
    "    )\n",
    "    sqrt_recip_alphas_t = get_index_from_list(sqrt_recip_alphas, t, x.shape)\n",
    "    \n",
    "    # Use the U-Net to predict the noise from the current image x_t\n",
    "    predicted_noise = model(x, t)\n",
    "    \n",
    "    # Calculate the mean of the reverse distribution using the predicted noise\n",
    "    model_mean = sqrt_recip_alphas_t * (\n",
    "        x - betas_t * predicted_noise / sqrt_one_minus_alphas_cumprod_t\n",
    "    )\n",
    "    \n",
    "    posterior_variance_t = get_index_from_list(posterior_variance, t, x.shape)\n",
    "    \n",
    "    if t.all().item() == 0:\n",
    "        # For the last step (t=0), there's no noise added\n",
    "        return model_mean\n",
    "    else:\n",
    "        # Add noise to the mean to get the image for the previous step\n",
    "        noise = torch.randn_like(x)\n",
    "        return model_mean + torch.sqrt(posterior_variance_t) * noise\n",
    "\n",
    "@torch.no_grad()\n",
    "def generate_images(num_images=16):\n",
    "    \"\"\"\n",
    "    Generates new images by running the full reverse diffusion process.\n",
    "    \"\"\"\n",
    "    print(\"Generating images...\")\n",
    "    # Start with pure random noise (x_T)\n",
    "    img = torch.randn((num_images, 1, IMG_SIZE, IMG_SIZE), device=device)\n",
    "    \n",
    "    # Loop backwards through the timesteps\n",
    "    for i in tqdm(reversed(range(0, TIMESTEPS)), desc=\"Sampling\", total=TIMESTEPS):\n",
    "        t = torch.full((num_images,), i, device=device, dtype=torch.long)\n",
    "        img = sample_timestep(img, t)\n",
    "    \n",
    "    # Un-normalize images from [-1, 1] to [0, 1]\n",
    "    img = (img + 1) * 0.5\n",
    "    img = img.clamp(0, 1)\n",
    "    return img\n",
    "\n",
    "# --- Generate and Plot Images ---\n",
    "generated_images = generate_images(num_images=16)\n",
    "\n",
    "plt.figure(figsize=(8, 8))\n",
    "for i in range(16):\n",
    "    plt.subplot(4, 4, i+1)\n",
    "    plt.imshow(generated_images[i].cpu().squeeze(), cmap='gray')\n",
    "    plt.axis('off')\n",
    "plt.suptitle(\"Generated MNIST Digits (Noise Estimation Method)\")\n",
    "plt.tight_layout(rect=[0, 0.03, 1, 0.95])\n",
    "plt.show()"
   ]
  }
 ],
 "metadata": {
  "kernelspec": {
   "display_name": "raghava",
   "language": "python",
   "name": "python3"
  },
  "language_info": {
   "codemirror_mode": {
    "name": "ipython",
    "version": 3
   },
   "file_extension": ".py",
   "mimetype": "text/x-python",
   "name": "python",
   "nbconvert_exporter": "python",
   "pygments_lexer": "ipython3",
   "version": "3.9.19"
  }
 },
 "nbformat": 4,
 "nbformat_minor": 2
}
