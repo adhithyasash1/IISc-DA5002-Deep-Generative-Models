{
 "cells": [
  {
   "cell_type": "code",
   "execution_count": 1,
   "metadata": {},
   "outputs": [
    {
     "name": "stderr",
     "output_type": "stream",
     "text": [
      "/raid/home/chandanj/miniconda3/envs/raghava/lib/python3.9/site-packages/tqdm/auto.py:21: TqdmWarning: IProgress not found. Please update jupyter and ipywidgets. See https://ipywidgets.readthedocs.io/en/stable/user_install.html\n",
      "  from .autonotebook import tqdm as notebook_tqdm\n"
     ]
    }
   ],
   "source": [
    "import torch\n",
    "import torch.nn as nn\n",
    "import torch.nn.functional as F\n",
    "import torch.optim as optim\n",
    "from torchvision import datasets, transforms\n",
    "from torch.utils.data import DataLoader\n",
    "import matplotlib.pyplot as plt\n",
    "import numpy as np\n",
    "import math\n",
    "from tqdm import tqdm\n",
    "\n",
    "# --- 1. Configuration and Hyperparameters ---\n",
    "IMG_SIZE = 28\n",
    "BATCH_SIZE = 128\n",
    "NUM_EPOCHS = 50 \n",
    "LEARNING_RATE = 1e-3\n",
    "TIMESTEPS = 1000\n",
    "DEVICE = \"cuda:4\"\n"
   ]
  },
  {
   "cell_type": "code",
   "execution_count": 2,
   "metadata": {},
   "outputs": [],
   "source": [
    "# --- 2. U-Net Architecture (Denoising Network) ---\n",
    "\n",
    "class ConvBlock(nn.Module):\n",
    "    \"\"\"\n",
    "    A basic convolutional block that:\n",
    "      1) Applies two 3×3 convolutions (with BatchNorm + ReLU)\n",
    "      2) Injects a time-step embedding as a per-channel bias between them\n",
    "    \"\"\"\n",
    "    def __init__(self, in_channels, out_channels, time_emb_dim):\n",
    "        super().__init__()\n",
    "        # MLP to project the time embedding into a bias vector of size out_channels\n",
    "        self.time_mlp = nn.Linear(time_emb_dim, out_channels)\n",
    "        # First conv layer: from in_channels to out_channels, 3×3 with padding\n",
    "        self.conv1 = nn.Conv2d(in_channels, out_channels, kernel_size=3, padding=1)\n",
    "        # Second conv layer: maintains out_channels\n",
    "        self.conv2 = nn.Conv2d(out_channels, out_channels, kernel_size=3, padding=1)\n",
    "        # BatchNorm layers to stabilize training after each conv\n",
    "        self.bn1 = nn.BatchNorm2d(out_channels)\n",
    "        self.bn2 = nn.BatchNorm2d(out_channels)\n",
    "        # ReLU activation function\n",
    "        self.relu = nn.ReLU()\n",
    "\n",
    "    def forward(self, x, t_emb):\n",
    "        # x: [B, in_channels, H, W], t_emb: [B, time_emb_dim]\n",
    "        # 1) Conv → ReLU → BatchNorm\n",
    "        h = self.bn1(self.relu(self.conv1(x)))\n",
    "        # 2) Project time embedding → [B, out_channels]\n",
    "        time_emb = self.relu(self.time_mlp(t_emb))\n",
    "        # 3) Reshape to [B, out_channels, 1, 1] so it can broadcast spatially\n",
    "        time_emb = time_emb[(...,) + (None,) * 2]\n",
    "        # 4) Add time bias to conv features\n",
    "        h = h + time_emb\n",
    "        # 5) Second Conv → ReLU → BatchNorm\n",
    "        h = self.bn2(self.relu(self.conv2(h)))\n",
    "        return h\n",
    "\n",
    "\n",
    "class UNet(nn.Module):\n",
    "    \"\"\"\n",
    "    A U-Net that incorporates time conditioning.  Instead of predicting noise,\n",
    "    this version directly predicts the clean image x₀.\n",
    "    \"\"\"\n",
    "    def __init__(self, in_channels=1, out_channels=1, time_emb_dim=256):\n",
    "        super().__init__()\n",
    "        # MLP to refine the sinusoidal time encoding before feeding into ConvBlocks\n",
    "        self.time_mlp = nn.Sequential(\n",
    "            nn.Linear(time_emb_dim, time_emb_dim),\n",
    "            nn.ReLU(),\n",
    "            nn.Linear(time_emb_dim, time_emb_dim),\n",
    "        )\n",
    "\n",
    "        # Encoder (downsampling) path\n",
    "        self.inc   = ConvBlock(in_channels, 64,  time_emb_dim)  # initial block\n",
    "        self.down1 = ConvBlock(64,           128, time_emb_dim)\n",
    "        self.down2 = ConvBlock(128,          256, time_emb_dim)\n",
    "        self.downsample = nn.MaxPool2d(2)  # half spatial dims\n",
    "\n",
    "        # Bottleneck: two ConvBlocks at the lowest resolution\n",
    "        self.bot1 = ConvBlock(256, 256, time_emb_dim)\n",
    "        self.bot2 = ConvBlock(256, 256, time_emb_dim)\n",
    "\n",
    "        # Decoder (upsampling) path\n",
    "        # Each up block concatenates skip connection from the encoder\n",
    "        self.up1 = ConvBlock(256 + 128, 128, time_emb_dim)\n",
    "        self.up2 = ConvBlock(128 + 64,   64,  time_emb_dim)\n",
    "        self.upsample = nn.Upsample(scale_factor=2, mode='bilinear', align_corners=True)\n",
    "\n",
    "        # Final 1×1 conv to map back to the desired number of channels (clean image x₀)\n",
    "        self.outc = nn.Conv2d(64, out_channels, kernel_size=1)\n",
    "\n",
    "    def pos_encoding(self, t, dim):\n",
    "        \"\"\"\n",
    "        Compute sinusoidal embeddings for timesteps t:\n",
    "          - inv_freq: frequencies for sin/cos\n",
    "          - pos_emb_sin/cos: [B, dim/2] each → concatenated to [B, dim]\n",
    "        \"\"\"\n",
    "        inv_freq = 1.0 / (10000 ** (torch.arange(0, dim, 2).float() / dim))\n",
    "        inv_freq = inv_freq.to(t.device)\n",
    "        pos_emb_sin = torch.sin(t.float().unsqueeze(1) * inv_freq)\n",
    "        pos_emb_cos = torch.cos(t.float().unsqueeze(1) * inv_freq)\n",
    "        pos_emb = torch.cat([pos_emb_sin, pos_emb_cos], dim=-1)\n",
    "        return pos_emb\n",
    "\n",
    "    def forward(self, x, t):\n",
    "        \"\"\"\n",
    "        x: noisy image [B,1,H,W], t: timestep tensor [B]\n",
    "        Returns the network's estimate of the clean image x₀.\n",
    "        \"\"\"\n",
    "        # 1) Build time embedding: sinusoidal → MLP\n",
    "        t_emb = self.time_mlp(self.pos_encoding(t, self.time_mlp[0].in_features))\n",
    "\n",
    "        # --- Encoder ---\n",
    "        x1 = self.inc(x, t_emb)                   # [B,  64, H, W]\n",
    "        x2 = self.down1(self.downsample(x1), t_emb)  # [B, 128, H/2, W/2]\n",
    "        x3 = self.down2(self.downsample(x2), t_emb)  # [B, 256, H/4, W/4]\n",
    "\n",
    "        # --- Bottleneck ---\n",
    "        x_bot = self.bot1(x3, t_emb)                # [B, 256, H/4, W/4]\n",
    "        x_bot = self.bot2(x_bot, t_emb)             # [B, 256, H/4, W/4]\n",
    "\n",
    "        # --- Decoder ---\n",
    "        x_up1     = self.upsample(x_bot)            # [B,256,H/2,W/2]\n",
    "        x_concat1 = torch.cat([x_up1, x2], dim=1)   # skip connection\n",
    "        x_dec1    = self.up1(x_concat1, t_emb)      # [B,128,H/2,W/2]\n",
    "\n",
    "        x_up2     = self.upsample(x_dec1)           # [B,128,H,W]\n",
    "        x_concat2 = torch.cat([x_up2, x1], dim=1)   # skip connection\n",
    "        x_dec2    = self.up2(x_concat2, t_emb)      # [B, 64, H, W]\n",
    "\n",
    "        # --- Output: predicted clean image x₀ ---\n",
    "        predicted_x0 = self.outc(x_dec2)            # [B,1,H,W]\n",
    "        return predicted_x0"
   ]
  },
  {
   "cell_type": "code",
   "execution_count": 3,
   "metadata": {},
   "outputs": [],
   "source": [
    "# --- 3. DDPM Class (modified for x₀ estimation) ---\n",
    "class DDPM(nn.Module):\n",
    "    def __init__(self, model, timesteps=1000,\n",
    "                 beta_start=0.0001, beta_end=0.02,\n",
    "                 device=DEVICE):\n",
    "        super().__init__()\n",
    "        # The U-Net (or other backbone) now predicts x₀ directly\n",
    "        self.model      = model.to(device)\n",
    "        # Total diffusion steps\n",
    "        self.timesteps  = timesteps\n",
    "        # Device for tensors\n",
    "        self.device     = device\n",
    "\n",
    "        # 1) Linear noise schedule β₁…β_T\n",
    "        self.betas      = torch.linspace(beta_start, beta_end, timesteps).to(device)\n",
    "        # 2) Signal coefficients α_t = 1 − β_t\n",
    "        self.alphas     = 1.0 - self.betas\n",
    "        # 3) Cumulative product ᾱ_t = ∏_{s=1}^t α_s\n",
    "        self.alphas_cumprod      = torch.cumprod(self.alphas, axis=0)\n",
    "        # 4) ᾱ_{t-1}, padded so that ᾱ₀ = 1\n",
    "        self.alphas_cumprod_prev = F.pad(self.alphas_cumprod[:-1], (1, 0), value=1.0)\n",
    "\n",
    "        # 5) Precompute √ᾱ_t and √(1 − ᾱ_t) for forward sampling\n",
    "        self.sqrt_alphas_cumprod          = torch.sqrt(self.alphas_cumprod)\n",
    "        self.sqrt_one_minus_alphas_cumprod = torch.sqrt(1.0 - self.alphas_cumprod)\n",
    "\n",
    "        # 6) Analytical posterior variance Var[q(x_{t-1} | x_t, x₀)]\n",
    "        self.posterior_variance = (\n",
    "            self.betas\n",
    "            * (1. - self.alphas_cumprod_prev)\n",
    "            / (1. - self.alphas_cumprod)\n",
    "        )\n",
    "        \n",
    "    def forward_diffusion(self, x_0, t, noise=None):\n",
    "        \"\"\"\n",
    "        q(x_t | x₀): Corrupt x₀ at timestep t by mixing with Gaussian noise.\n",
    "        Returns:\n",
    "          x_t   = √ᾱ_t · x₀ + √(1−ᾱ_t) · noise\n",
    "          noise = the random noise used (needed internally for inference)\n",
    "        \"\"\"\n",
    "        # If no noise provided, draw standard normal\n",
    "        if noise is None:\n",
    "            noise = torch.randn_like(x_0)\n",
    "\n",
    "        # Gather the precomputed scale factors for each sample\n",
    "        a_bar_t = self.sqrt_alphas_cumprod[t][:, None, None, None]\n",
    "        b_bar_t = self.sqrt_one_minus_alphas_cumprod[t][:, None, None, None]\n",
    "\n",
    "        # Compute the noisy x_t\n",
    "        x_t = a_bar_t * x_0 + b_bar_t * noise\n",
    "        return x_t, noise\n",
    "\n",
    "    def sample_timesteps(self, batch_size):\n",
    "        \"\"\"Uniformly sample timesteps in [0, T) for a batch.\"\"\"\n",
    "        return torch.randint(\n",
    "            0, self.timesteps, (batch_size,),\n",
    "            device=self.device\n",
    "        ).long()\n",
    "\n",
    "    @torch.no_grad()\n",
    "    def sample(self, num_samples, channels, img_size):\n",
    "        \"\"\"\n",
    "        Reverse the diffusion process to generate new images:\n",
    "          • Start at x_T ∼ N(0,I)\n",
    "          • For t = T−1…0:\n",
    "              – Predict x₀ from xₜ\n",
    "              – Infer εₜ = (xₜ − √ᾱₜ · x₀_pred) / √(1−ᾱₜ)\n",
    "              – Compute posterior mean µ = reverse_ddpm_mean(εₜ)\n",
    "              – Sample x_{t-1} ∼ N(µ, Var)\n",
    "        \"\"\"\n",
    "        self.model.eval()\n",
    "        # Initialize x_T as pure noise\n",
    "        x = torch.randn(num_samples, channels, img_size, img_size, device=self.device)\n",
    "\n",
    "        for i in tqdm(\n",
    "            reversed(range(self.timesteps)),\n",
    "            desc=\"Sampling\", total=self.timesteps\n",
    "        ):\n",
    "            # Create a tensor of the current timestep\n",
    "            t = torch.full((num_samples,), i, device=self.device, dtype=torch.long)\n",
    "            \n",
    "            # 1) Predict clean image x₀ from the current xₜ\n",
    "            predicted_x0 = self.model(x, t)\n",
    "\n",
    "            # 2) Infer the noise term εₜ by inverting the forward equation:\n",
    "            #    εₜ = (xₜ − √ᾱₜ·x₀_pred) / √(1−ᾱₜ)\n",
    "            a_bar_t = self.sqrt_alphas_cumprod[t][:, None, None, None]\n",
    "            b_bar_t = self.sqrt_one_minus_alphas_cumprod[t][:, None, None, None]\n",
    "            predicted_noise = (x - a_bar_t * predicted_x0) / b_bar_t\n",
    "\n",
    "            # 3) Gather α_t, ᾱ_t, β_t for reverse update\n",
    "            alpha_t     = self.alphas[t][:, None, None, None]\n",
    "            alpha_bar_t = self.alphas_cumprod[t][:, None, None, None]\n",
    "            beta_t      = self.betas[t][:, None, None, None]\n",
    "            \n",
    "            # 4) Compute the reverse DDPM mean using the inferred noise\n",
    "            mean = (\n",
    "                1 / torch.sqrt(alpha_t)\n",
    "            ) * (\n",
    "                x - (beta_t / torch.sqrt(1 - alpha_bar_t)) * predicted_noise\n",
    "            )\n",
    "            \n",
    "            # 5) Add stochasticity (unless at t=0)\n",
    "            if i > 0:\n",
    "                z   = torch.randn_like(x)\n",
    "                var = self.posterior_variance[t][:, None, None, None]\n",
    "                x   = mean + torch.sqrt(var) * z\n",
    "            else:\n",
    "                x = mean  # final step: deterministic\n",
    "\n",
    "        # Restore train mode\n",
    "        self.model.train()\n",
    "\n",
    "        # Scale outputs from [-1,1] → [0,1] → [0,255] uint8\n",
    "        x = (x.clamp(-1, 1) + 1) / 2\n",
    "        x = x.cpu().permute(0, 2, 3, 1).numpy() * 255\n",
    "        return x.astype(np.uint8)"
   ]
  },
  {
   "cell_type": "code",
   "execution_count": 4,
   "metadata": {},
   "outputs": [],
   "source": [
    "# --- 4. Dataset and DataLoader ---\n",
    "transform = transforms.Compose([\n",
    "    transforms.ToTensor(),\n",
    "    transforms.Normalize((0.5,), (0.5,)) # Normalize to [-1, 1]\n",
    "])\n",
    "\n",
    "train_dataset = datasets.MNIST(root='./', train=True, download=True, transform=transform)\n",
    "train_loader = DataLoader(train_dataset, batch_size=BATCH_SIZE, shuffle=True, num_workers=4)\n"
   ]
  },
  {
   "cell_type": "code",
   "execution_count": 5,
   "metadata": {},
   "outputs": [
    {
     "name": "stdout",
     "output_type": "stream",
     "text": [
      "Training on cuda:4 with X_0 Estimation\n"
     ]
    },
    {
     "name": "stderr",
     "output_type": "stream",
     "text": [
      "Epoch 1/50: 100%|██████████| 469/469 [00:22<00:00, 20.56it/s]\n"
     ]
    },
    {
     "name": "stdout",
     "output_type": "stream",
     "text": [
      "Epoch 1, Average Loss: 0.2319\n"
     ]
    },
    {
     "name": "stderr",
     "output_type": "stream",
     "text": [
      "Epoch 2/50: 100%|██████████| 469/469 [00:21<00:00, 21.75it/s]\n"
     ]
    },
    {
     "name": "stdout",
     "output_type": "stream",
     "text": [
      "Epoch 2, Average Loss: 0.1561\n"
     ]
    },
    {
     "name": "stderr",
     "output_type": "stream",
     "text": [
      "Epoch 3/50: 100%|██████████| 469/469 [00:21<00:00, 21.73it/s]\n"
     ]
    },
    {
     "name": "stdout",
     "output_type": "stream",
     "text": [
      "Epoch 3, Average Loss: 0.1528\n"
     ]
    },
    {
     "name": "stderr",
     "output_type": "stream",
     "text": [
      "Epoch 4/50: 100%|██████████| 469/469 [00:21<00:00, 21.76it/s]\n"
     ]
    },
    {
     "name": "stdout",
     "output_type": "stream",
     "text": [
      "Epoch 4, Average Loss: 0.1513\n"
     ]
    },
    {
     "name": "stderr",
     "output_type": "stream",
     "text": [
      "Epoch 5/50: 100%|██████████| 469/469 [00:21<00:00, 21.77it/s]\n"
     ]
    },
    {
     "name": "stdout",
     "output_type": "stream",
     "text": [
      "Epoch 5, Average Loss: 0.1497\n"
     ]
    },
    {
     "name": "stderr",
     "output_type": "stream",
     "text": [
      "Epoch 6/50: 100%|██████████| 469/469 [00:21<00:00, 21.71it/s]\n"
     ]
    },
    {
     "name": "stdout",
     "output_type": "stream",
     "text": [
      "Epoch 6, Average Loss: 0.1504\n"
     ]
    },
    {
     "name": "stderr",
     "output_type": "stream",
     "text": [
      "Epoch 7/50: 100%|██████████| 469/469 [00:21<00:00, 21.72it/s]\n"
     ]
    },
    {
     "name": "stdout",
     "output_type": "stream",
     "text": [
      "Epoch 7, Average Loss: 0.1490\n"
     ]
    },
    {
     "name": "stderr",
     "output_type": "stream",
     "text": [
      "Epoch 8/50: 100%|██████████| 469/469 [00:21<00:00, 21.67it/s]\n"
     ]
    },
    {
     "name": "stdout",
     "output_type": "stream",
     "text": [
      "Epoch 8, Average Loss: 0.1489\n"
     ]
    },
    {
     "name": "stderr",
     "output_type": "stream",
     "text": [
      "Epoch 9/50: 100%|██████████| 469/469 [00:21<00:00, 21.73it/s]\n"
     ]
    },
    {
     "name": "stdout",
     "output_type": "stream",
     "text": [
      "Epoch 9, Average Loss: 0.1489\n"
     ]
    },
    {
     "name": "stderr",
     "output_type": "stream",
     "text": [
      "Epoch 10/50: 100%|██████████| 469/469 [00:21<00:00, 21.72it/s]\n"
     ]
    },
    {
     "name": "stdout",
     "output_type": "stream",
     "text": [
      "Epoch 10, Average Loss: 0.1487\n"
     ]
    },
    {
     "data": {
      "image/png": "[encoded data removed]",
      "text/plain": [
       "<Figure size 1000x500 with 1 Axes>"
      ]
     },
     "metadata": {},
     "output_type": "display_data"
    },
    {
     "name": "stderr",
     "output_type": "stream",
     "text": [
      "Epoch 11/50: 100%|██████████| 469/469 [00:21<00:00, 21.76it/s]\n"
     ]
    },
    {
     "name": "stdout",
     "output_type": "stream",
     "text": [
      "Epoch 11, Average Loss: 0.1480\n"
     ]
    },
    {
     "name": "stderr",
     "output_type": "stream",
     "text": [
      "Epoch 12/50: 100%|██████████| 469/469 [00:21<00:00, 21.75it/s]\n"
     ]
    },
    {
     "name": "stdout",
     "output_type": "stream",
     "text": [
      "Epoch 12, Average Loss: 0.1479\n"
     ]
    },
    {
     "name": "stderr",
     "output_type": "stream",
     "text": [
      "Epoch 13/50: 100%|██████████| 469/469 [00:21<00:00, 21.79it/s]\n"
     ]
    },
    {
     "name": "stdout",
     "output_type": "stream",
     "text": [
      "Epoch 13, Average Loss: 0.1473\n"
     ]
    },
    {
     "name": "stderr",
     "output_type": "stream",
     "text": [
      "Epoch 14/50: 100%|██████████| 469/469 [00:21<00:00, 21.73it/s]\n"
     ]
    },
    {
     "name": "stdout",
     "output_type": "stream",
     "text": [
      "Epoch 14, Average Loss: 0.1473\n"
     ]
    },
    {
     "name": "stderr",
     "output_type": "stream",
     "text": [
      "Epoch 15/50: 100%|██████████| 469/469 [00:21<00:00, 21.65it/s]\n"
     ]
    },
    {
     "name": "stdout",
     "output_type": "stream",
     "text": [
      "Epoch 15, Average Loss: 0.1468\n"
     ]
    },
    {
     "name": "stderr",
     "output_type": "stream",
     "text": [
      "Epoch 16/50: 100%|██████████| 469/469 [00:21<00:00, 21.73it/s]\n"
     ]
    },
    {
     "name": "stdout",
     "output_type": "stream",
     "text": [
      "Epoch 16, Average Loss: 0.1478\n"
     ]
    },
    {
     "name": "stderr",
     "output_type": "stream",
     "text": [
      "Epoch 17/50: 100%|██████████| 469/469 [00:21<00:00, 21.66it/s]\n"
     ]
    },
    {
     "name": "stdout",
     "output_type": "stream",
     "text": [
      "Epoch 17, Average Loss: 0.1471\n"
     ]
    },
    {
     "name": "stderr",
     "output_type": "stream",
     "text": [
      "Epoch 18/50: 100%|██████████| 469/469 [00:21<00:00, 21.70it/s]\n"
     ]
    },
    {
     "name": "stdout",
     "output_type": "stream",
     "text": [
      "Epoch 18, Average Loss: 0.1488\n"
     ]
    },
    {
     "name": "stderr",
     "output_type": "stream",
     "text": [
      "Epoch 19/50: 100%|██████████| 469/469 [00:21<00:00, 21.67it/s]\n"
     ]
    },
    {
     "name": "stdout",
     "output_type": "stream",
     "text": [
      "Epoch 19, Average Loss: 0.1467\n"
     ]
    },
    {
     "name": "stderr",
     "output_type": "stream",
     "text": [
      "Epoch 20/50: 100%|██████████| 469/469 [00:21<00:00, 21.71it/s]\n"
     ]
    },
    {
     "name": "stdout",
     "output_type": "stream",
     "text": [
      "Epoch 20, Average Loss: 0.1469\n"
     ]
    },
    {
     "data": {
      "image/png": "[encoded data removed]",
      "text/plain": [
       "<Figure size 1000x500 with 1 Axes>"
      ]
     },
     "metadata": {},
     "output_type": "display_data"
    },
    {
     "name": "stderr",
     "output_type": "stream",
     "text": [
      "Epoch 21/50: 100%|██████████| 469/469 [00:21<00:00, 21.74it/s]\n"
     ]
    },
    {
     "name": "stdout",
     "output_type": "stream",
     "text": [
      "Epoch 21, Average Loss: 0.1460\n"
     ]
    },
    {
     "name": "stderr",
     "output_type": "stream",
     "text": [
      "Epoch 22/50: 100%|██████████| 469/469 [00:21<00:00, 21.75it/s]\n"
     ]
    },
    {
     "name": "stdout",
     "output_type": "stream",
     "text": [
      "Epoch 22, Average Loss: 0.1476\n"
     ]
    },
    {
     "name": "stderr",
     "output_type": "stream",
     "text": [
      "Epoch 23/50: 100%|██████████| 469/469 [00:21<00:00, 21.72it/s]\n"
     ]
    },
    {
     "name": "stdout",
     "output_type": "stream",
     "text": [
      "Epoch 23, Average Loss: 0.1470\n"
     ]
    },
    {
     "name": "stderr",
     "output_type": "stream",
     "text": [
      "Epoch 24/50: 100%|██████████| 469/469 [00:21<00:00, 21.76it/s]\n"
     ]
    },
    {
     "name": "stdout",
     "output_type": "stream",
     "text": [
      "Epoch 24, Average Loss: 0.1466\n"
     ]
    },
    {
     "name": "stderr",
     "output_type": "stream",
     "text": [
      "Epoch 25/50: 100%|██████████| 469/469 [00:21<00:00, 21.71it/s]\n"
     ]
    },
    {
     "name": "stdout",
     "output_type": "stream",
     "text": [
      "Epoch 25, Average Loss: 0.1458\n"
     ]
    },
    {
     "name": "stderr",
     "output_type": "stream",
     "text": [
      "Epoch 26/50: 100%|██████████| 469/469 [00:21<00:00, 21.69it/s]\n"
     ]
    },
    {
     "name": "stdout",
     "output_type": "stream",
     "text": [
      "Epoch 26, Average Loss: 0.1464\n"
     ]
    },
    {
     "name": "stderr",
     "output_type": "stream",
     "text": [
      "Epoch 27/50: 100%|██████████| 469/469 [00:21<00:00, 21.62it/s]\n"
     ]
    },
    {
     "name": "stdout",
     "output_type": "stream",
     "text": [
      "Epoch 27, Average Loss: 0.1457\n"
     ]
    },
    {
     "name": "stderr",
     "output_type": "stream",
     "text": [
      "Epoch 28/50: 100%|██████████| 469/469 [00:21<00:00, 21.73it/s]\n"
     ]
    },
    {
     "name": "stdout",
     "output_type": "stream",
     "text": [
      "Epoch 28, Average Loss: 0.1455\n"
     ]
    },
    {
     "name": "stderr",
     "output_type": "stream",
     "text": [
      "Epoch 29/50: 100%|██████████| 469/469 [00:21<00:00, 21.71it/s]\n"
     ]
    },
    {
     "name": "stdout",
     "output_type": "stream",
     "text": [
      "Epoch 29, Average Loss: 0.1460\n"
     ]
    },
    {
     "name": "stderr",
     "output_type": "stream",
     "text": [
      "Epoch 30/50: 100%|██████████| 469/469 [00:21<00:00, 21.68it/s]\n"
     ]
    },
    {
     "name": "stdout",
     "output_type": "stream",
     "text": [
      "Epoch 30, Average Loss: 0.1460\n"
     ]
    },
    {
     "data": {
      "image/png": "[encoded data removed]",
      "text/plain": [
       "<Figure size 1000x500 with 1 Axes>"
      ]
     },
     "metadata": {},
     "output_type": "display_data"
    },
    {
     "name": "stderr",
     "output_type": "stream",
     "text": [
      "Epoch 31/50: 100%|██████████| 469/469 [00:21<00:00, 21.74it/s]\n"
     ]
    },
    {
     "name": "stdout",
     "output_type": "stream",
     "text": [
      "Epoch 31, Average Loss: 0.1465\n"
     ]
    },
    {
     "name": "stderr",
     "output_type": "stream",
     "text": [
      "Epoch 32/50: 100%|██████████| 469/469 [00:21<00:00, 21.70it/s]\n"
     ]
    },
    {
     "name": "stdout",
     "output_type": "stream",
     "text": [
      "Epoch 32, Average Loss: 0.1457\n"
     ]
    },
    {
     "name": "stderr",
     "output_type": "stream",
     "text": [
      "Epoch 33/50: 100%|██████████| 469/469 [00:21<00:00, 21.73it/s]\n"
     ]
    },
    {
     "name": "stdout",
     "output_type": "stream",
     "text": [
      "Epoch 33, Average Loss: 0.1456\n"
     ]
    },
    {
     "name": "stderr",
     "output_type": "stream",
     "text": [
      "Epoch 34/50: 100%|██████████| 469/469 [00:21<00:00, 21.61it/s]\n"
     ]
    },
    {
     "name": "stdout",
     "output_type": "stream",
     "text": [
      "Epoch 34, Average Loss: 0.1455\n"
     ]
    },
    {
     "name": "stderr",
     "output_type": "stream",
     "text": [
      "Epoch 35/50: 100%|██████████| 469/469 [00:21<00:00, 21.72it/s]\n"
     ]
    },
    {
     "name": "stdout",
     "output_type": "stream",
     "text": [
      "Epoch 35, Average Loss: 0.1456\n"
     ]
    },
    {
     "name": "stderr",
     "output_type": "stream",
     "text": [
      "Epoch 36/50: 100%|██████████| 469/469 [00:21<00:00, 21.76it/s]\n"
     ]
    },
    {
     "name": "stdout",
     "output_type": "stream",
     "text": [
      "Epoch 36, Average Loss: 0.1456\n"
     ]
    },
    {
     "name": "stderr",
     "output_type": "stream",
     "text": [
      "Epoch 37/50: 100%|██████████| 469/469 [00:21<00:00, 21.74it/s]\n"
     ]
    },
    {
     "name": "stdout",
     "output_type": "stream",
     "text": [
      "Epoch 37, Average Loss: 0.1447\n"
     ]
    },
    {
     "name": "stderr",
     "output_type": "stream",
     "text": [
      "Epoch 38/50: 100%|██████████| 469/469 [00:21<00:00, 21.76it/s]\n"
     ]
    },
    {
     "name": "stdout",
     "output_type": "stream",
     "text": [
      "Epoch 38, Average Loss: 0.1456\n"
     ]
    },
    {
     "name": "stderr",
     "output_type": "stream",
     "text": [
      "Epoch 39/50: 100%|██████████| 469/469 [00:21<00:00, 21.76it/s]\n"
     ]
    },
    {
     "name": "stdout",
     "output_type": "stream",
     "text": [
      "Epoch 39, Average Loss: 0.1454\n"
     ]
    },
    {
     "name": "stderr",
     "output_type": "stream",
     "text": [
      "Epoch 40/50: 100%|██████████| 469/469 [00:21<00:00, 21.71it/s]\n"
     ]
    },
    {
     "name": "stdout",
     "output_type": "stream",
     "text": [
      "Epoch 40, Average Loss: 0.1457\n"
     ]
    },
    {
     "data": {
      "image/png": "[encoded data removed]",
      "text/plain": [
       "<Figure size 1000x500 with 1 Axes>"
      ]
     },
     "metadata": {},
     "output_type": "display_data"
    },
    {
     "name": "stderr",
     "output_type": "stream",
     "text": [
      "Epoch 41/50: 100%|██████████| 469/469 [00:21<00:00, 21.74it/s]\n"
     ]
    },
    {
     "name": "stdout",
     "output_type": "stream",
     "text": [
      "Epoch 41, Average Loss: 0.1450\n"
     ]
    },
    {
     "name": "stderr",
     "output_type": "stream",
     "text": [
      "Epoch 42/50: 100%|██████████| 469/469 [00:21<00:00, 21.78it/s]\n"
     ]
    },
    {
     "name": "stdout",
     "output_type": "stream",
     "text": [
      "Epoch 42, Average Loss: 0.1449\n"
     ]
    },
    {
     "name": "stderr",
     "output_type": "stream",
     "text": [
      "Epoch 43/50: 100%|██████████| 469/469 [00:21<00:00, 21.76it/s]\n"
     ]
    },
    {
     "name": "stdout",
     "output_type": "stream",
     "text": [
      "Epoch 43, Average Loss: 0.1457\n"
     ]
    },
    {
     "name": "stderr",
     "output_type": "stream",
     "text": [
      "Epoch 44/50: 100%|██████████| 469/469 [00:21<00:00, 21.78it/s]\n"
     ]
    },
    {
     "name": "stdout",
     "output_type": "stream",
     "text": [
      "Epoch 44, Average Loss: 0.1454\n"
     ]
    },
    {
     "name": "stderr",
     "output_type": "stream",
     "text": [
      "Epoch 45/50: 100%|██████████| 469/469 [00:21<00:00, 21.79it/s]\n"
     ]
    },
    {
     "name": "stdout",
     "output_type": "stream",
     "text": [
      "Epoch 45, Average Loss: 0.1446\n"
     ]
    },
    {
     "name": "stderr",
     "output_type": "stream",
     "text": [
      "Epoch 46/50: 100%|██████████| 469/469 [00:21<00:00, 21.83it/s]\n"
     ]
    },
    {
     "name": "stdout",
     "output_type": "stream",
     "text": [
      "Epoch 46, Average Loss: 0.1455\n"
     ]
    },
    {
     "name": "stderr",
     "output_type": "stream",
     "text": [
      "Epoch 47/50: 100%|██████████| 469/469 [00:21<00:00, 21.78it/s]\n"
     ]
    },
    {
     "name": "stdout",
     "output_type": "stream",
     "text": [
      "Epoch 47, Average Loss: 0.1442\n"
     ]
    },
    {
     "name": "stderr",
     "output_type": "stream",
     "text": [
      "Epoch 48/50: 100%|██████████| 469/469 [00:21<00:00, 21.76it/s]\n"
     ]
    },
    {
     "name": "stdout",
     "output_type": "stream",
     "text": [
      "Epoch 48, Average Loss: 0.1453\n"
     ]
    },
    {
     "name": "stderr",
     "output_type": "stream",
     "text": [
      "Epoch 49/50: 100%|██████████| 469/469 [00:21<00:00, 21.78it/s]\n"
     ]
    },
    {
     "name": "stdout",
     "output_type": "stream",
     "text": [
      "Epoch 49, Average Loss: 0.1453\n"
     ]
    },
    {
     "name": "stderr",
     "output_type": "stream",
     "text": [
      "Epoch 50/50: 100%|██████████| 469/469 [00:21<00:00, 21.88it/s]\n"
     ]
    },
    {
     "name": "stdout",
     "output_type": "stream",
     "text": [
      "Epoch 50, Average Loss: 0.1455\n"
     ]
    },
    {
     "data": {
      "image/png": "[encoded data removed]",
      "text/plain": [
       "<Figure size 1000x500 with 1 Axes>"
      ]
     },
     "metadata": {},
     "output_type": "display_data"
    },
    {
     "name": "stdout",
     "output_type": "stream",
     "text": [
      "Generating new images (using X_0 estimates for reverse process)...\n"
     ]
    },
    {
     "name": "stderr",
     "output_type": "stream",
     "text": [
      "Sampling: 100%|██████████| 1000/1000 [00:04<00:00, 220.25it/s]\n"
     ]
    },
    {
     "data": {
      "image/png": "[encoded data removed]",
      "text/plain": [
       "<Figure size 800x800 with 16 Axes>"
      ]
     },
     "metadata": {},
     "output_type": "display_data"
    },
    {
     "name": "stdout",
     "output_type": "stream",
     "text": [
      "Training and sampling complete!\n"
     ]
    }
   ],
   "source": [
    "# --- 5. Training Loop ---\n",
    "if __name__ == \"__main__\":\n",
    "    unet_model = UNet(in_channels=1, out_channels=1, time_emb_dim=256)\n",
    "    ddpm = DDPM(unet_model, timesteps=TIMESTEPS, device=DEVICE)\n",
    "    optimizer = optim.Adam(ddpm.model.parameters(), lr=LEARNING_RATE)\n",
    "    criterion = nn.MSELoss() # Standard MSELoss is used for x_0 prediction\n",
    "\n",
    "    train_losses = []\n",
    "\n",
    "    print(f\"Training on {DEVICE} with X_0 Estimation\")\n",
    "    for epoch in range(NUM_EPOCHS):\n",
    "        epoch_loss = 0\n",
    "        for batch_idx, (images, _) in enumerate(tqdm(train_loader, desc=f\"Epoch {epoch+1}/{NUM_EPOCHS}\")):\n",
    "            images = images.to(DEVICE) # This is our true x_0\n",
    "            \n",
    "            t = ddpm.sample_timesteps(images.shape[0])\n",
    "\n",
    "            # Forward diffusion gets us x_t (noisy image)\n",
    "            x_t, _ = ddpm.forward_diffusion(images, t) # We don't need true_noise for this objective\n",
    "\n",
    "            # The U-Net predicts the clean image x_0\n",
    "            predicted_x0 = ddpm.model(x_t, t)\n",
    "\n",
    "            # The loss is between the predicted x_0 and the true x_0\n",
    "            loss = criterion(predicted_x0, images)\n",
    "\n",
    "            optimizer.zero_grad()\n",
    "            loss.backward()\n",
    "            optimizer.step()\n",
    "\n",
    "            epoch_loss += loss.item()\n",
    "\n",
    "        avg_epoch_loss = epoch_loss / len(train_loader)\n",
    "        train_losses.append(avg_epoch_loss)\n",
    "        print(f\"Epoch {epoch+1}, Average Loss: {avg_epoch_loss:.4f}\")\n",
    "\n",
    "        if (epoch + 1) % 10 == 0 or epoch == NUM_EPOCHS - 1:\n",
    "            plt.figure(figsize=(10, 5))\n",
    "            plt.plot(train_losses)\n",
    "            plt.title(\"DDPM Training Loss Curve (X_0 Estimate)\")\n",
    "            plt.xlabel(\"Epoch\")\n",
    "            plt.ylabel(\"MSE Loss\")\n",
    "            plt.grid(True)\n",
    "            plt.show()\n",
    "\n",
    "    print(\"Generating new images (using X_0 estimates for reverse process)...\")\n",
    "    num_samples_to_generate = 16\n",
    "    sampled_images = ddpm.sample(num_samples_to_generate, channels=1, img_size=IMG_SIZE)\n",
    "\n",
    "    plt.figure(figsize=(8, 8))\n",
    "    for i in range(num_samples_to_generate):\n",
    "        plt.subplot(int(np.sqrt(num_samples_to_generate)), int(np.sqrt(num_samples_to_generate)), i + 1)\n",
    "        plt.imshow(sampled_images[i].squeeze(), cmap='gray')\n",
    "        plt.axis('off')\n",
    "    plt.suptitle(\"Generated MNIST Images (X_0 Estimate)\")\n",
    "    plt.show()\n",
    "\n",
    "    print(\"Training and sampling complete!\")"
   ]
  },
  {
   "cell_type": "code",
   "execution_count": null,
   "metadata": {},
   "outputs": [],
   "source": []
  }
 ],
 "metadata": {
  "kernelspec": {
   "display_name": "raghava",
   "language": "python",
   "name": "python3"
  },
  "language_info": {
   "codemirror_mode": {
    "name": "ipython",
    "version": 3
   },
   "file_extension": ".py",
   "mimetype": "text/x-python",
   "name": "python",
   "nbconvert_exporter": "python",
   "pygments_lexer": "ipython3",
   "version": "3.9.19"
  }
 },
 "nbformat": 4,
 "nbformat_minor": 2
}
