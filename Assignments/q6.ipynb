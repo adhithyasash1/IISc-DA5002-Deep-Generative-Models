{
 "cells": [
  {
   "cell_type": "code",
   "execution_count": 1,
   "id": "f13245d6",
   "metadata": {
    "_cell_guid": "b1076dfc-b9ad-4769-8c92-a6c4dae69d19",
    "_uuid": "8f2839f25d086af736a60e9eeb907d3b93b6e0e5",
    "execution": {
     "iopub.execute_input": "2025-07-18T13:38:14.782492Z",
     "iopub.status.busy": "2025-07-18T13:38:14.782266Z",
     "iopub.status.idle": "2025-07-18T13:38:23.806166Z",
     "shell.execute_reply": "2025-07-18T13:38:23.805392Z"
    },
    "papermill": {
     "duration": 9.028856,
     "end_time": "2025-07-18T13:38:23.807721",
     "exception": false,
     "start_time": "2025-07-18T13:38:14.778865",
     "status": "completed"
    },
    "tags": []
   },
   "outputs": [],
   "source": [
    "import torch\n",
    "import torch.nn as nn\n",
    "import torch.optim as optim\n",
    "import torchvision.datasets as datasets\n",
    "import torchvision.transforms as transforms\n",
    "from torch.utils.data import DataLoader, Subset, Dataset\n",
    "from torchvision.utils import save_image\n",
    "import matplotlib.pyplot as plt\n",
    "import os\n",
    "import numpy as np\n",
    "import random"
   ]
  },
  {
   "cell_type": "code",
   "execution_count": 2,
   "id": "894e85e1",
   "metadata": {
    "execution": {
     "iopub.execute_input": "2025-07-18T13:38:23.813678Z",
     "iopub.status.busy": "2025-07-18T13:38:23.813105Z",
     "iopub.status.idle": "2025-07-18T13:38:23.873593Z",
     "shell.execute_reply": "2025-07-18T13:38:23.872844Z"
    },
    "papermill": {
     "duration": 0.064282,
     "end_time": "2025-07-18T13:38:23.874694",
     "exception": false,
     "start_time": "2025-07-18T13:38:23.810412",
     "status": "completed"
    },
    "tags": []
   },
   "outputs": [
    {
     "name": "stdout",
     "output_type": "stream",
     "text": [
      "Configuration loaded. D:G Ratio = 1:7\n"
     ]
    }
   ],
   "source": [
    "class Config:\n",
    "    device = \"cuda\" if torch.cuda.is_available() else \"cpu\"\n",
    "    num_workers = 2\n",
    "    dataset_path = '/kaggle/input/dgm-animals/Animals_data/animals/animals'\n",
    "    image_size = 128\n",
    "    img_channels = 3\n",
    "    latent_dim = 100\n",
    "    embedding_dim = 100\n",
    "    features_g = 64\n",
    "    features_d = 64\n",
    "    batch_size = 64\n",
    "    num_epochs = 100\n",
    "    lr = 0.0002\n",
    "    beta1 = 0.5\n",
    "    beta2 = 0.999\n",
    "    label_smoothing = 0.1\n",
    "    output_dir = '/kaggle/working/Q6_cGAN_20_classes_G_heavy'\n",
    "    num_classes_subset = 20\n",
    "    \n",
    "    # training ratio\n",
    "    d_updates_per_step = 1\n",
    "    g_updates_per_step = 7\n",
    "\n",
    "config = Config()\n",
    "os.makedirs(config.output_dir, exist_ok=True)\n",
    "print(f\"Configuration loaded. D:G Ratio = {config.d_updates_per_step}:{config.g_updates_per_step}\")"
   ]
  },
  {
   "cell_type": "code",
   "execution_count": 3,
   "id": "1073343a",
   "metadata": {
    "execution": {
     "iopub.execute_input": "2025-07-18T13:38:23.879935Z",
     "iopub.status.busy": "2025-07-18T13:38:23.879566Z",
     "iopub.status.idle": "2025-07-18T13:38:29.816014Z",
     "shell.execute_reply": "2025-07-18T13:38:29.815214Z"
    },
    "papermill": {
     "duration": 5.940208,
     "end_time": "2025-07-18T13:38:29.817131",
     "exception": false,
     "start_time": "2025-07-18T13:38:23.876923",
     "status": "completed"
    },
    "tags": []
   },
   "outputs": [
    {
     "name": "stdout",
     "output_type": "stream",
     "text": [
      "\n",
      "Training on 20 randomly selected classes.\n"
     ]
    }
   ],
   "source": [
    "full_dataset_for_inspection = datasets.ImageFolder(root=config.dataset_path)\n",
    "all_class_names = full_dataset_for_inspection.classes\n",
    "selected_class_names = sorted(random.sample(all_class_names, config.num_classes_subset))\n",
    "print(f\"\\nTraining on {config.num_classes_subset} randomly selected classes.\")"
   ]
  },
  {
   "cell_type": "code",
   "execution_count": 4,
   "id": "445cc35c",
   "metadata": {
    "execution": {
     "iopub.execute_input": "2025-07-18T13:38:29.822911Z",
     "iopub.status.busy": "2025-07-18T13:38:29.822435Z",
     "iopub.status.idle": "2025-07-18T13:38:32.051427Z",
     "shell.execute_reply": "2025-07-18T13:38:32.050662Z"
    },
    "papermill": {
     "duration": 2.232951,
     "end_time": "2025-07-18T13:38:32.052583",
     "exception": false,
     "start_time": "2025-07-18T13:38:29.819632",
     "status": "completed"
    },
    "tags": []
   },
   "outputs": [
    {
     "name": "stdout",
     "output_type": "stream",
     "text": [
      "\n",
      "Filtered dataset created with 1193 images.\n"
     ]
    }
   ],
   "source": [
    "class ClassSubsetDataset(Dataset):\n",
    "    def __init__(self, subset, class_mapping):\n",
    "        self.subset = subset\n",
    "        self.class_mapping = class_mapping\n",
    "    def __getitem__(self, index):\n",
    "        image, original_label_idx = self.subset[index]\n",
    "        new_label_idx = self.class_mapping[original_label_idx]\n",
    "        return image, new_label_idx\n",
    "    def __len__(self):\n",
    "        return len(self.subset)\n",
    "\n",
    "transform = transforms.Compose([\n",
    "    transforms.Resize((config.image_size, config.image_size)),\n",
    "    transforms.RandomHorizontalFlip(),\n",
    "    transforms.ToTensor(),\n",
    "    transforms.Normalize([0.5], [0.5])\n",
    "])\n",
    "full_dataset = datasets.ImageFolder(root=config.dataset_path, transform=transform)\n",
    "\n",
    "selected_class_indices = [full_dataset.class_to_idx[name] for name in selected_class_names]\n",
    "class_mapping = {old_idx: new_idx for new_idx, old_idx in enumerate(selected_class_indices)}\n",
    "subset_indices = [i for i, (_, label_idx) in enumerate(full_dataset.samples) if label_idx in selected_class_indices]\n",
    "subset = Subset(full_dataset, subset_indices)\n",
    "train_dataset_20_classes = ClassSubsetDataset(subset, class_mapping)\n",
    "dataloader = DataLoader(train_dataset_20_classes, batch_size=config.batch_size, shuffle=True, num_workers=config.num_workers)\n",
    "\n",
    "print(f\"\\nFiltered dataset created with {len(train_dataset_20_classes)} images.\")"
   ]
  },
  {
   "cell_type": "code",
   "execution_count": 5,
   "id": "47e75836",
   "metadata": {
    "execution": {
     "iopub.execute_input": "2025-07-18T13:38:32.058430Z",
     "iopub.status.busy": "2025-07-18T13:38:32.058158Z",
     "iopub.status.idle": "2025-07-18T13:38:32.068132Z",
     "shell.execute_reply": "2025-07-18T13:38:32.067408Z"
    },
    "papermill": {
     "duration": 0.014257,
     "end_time": "2025-07-18T13:38:32.069276",
     "exception": false,
     "start_time": "2025-07-18T13:38:32.055019",
     "status": "completed"
    },
    "tags": []
   },
   "outputs": [],
   "source": [
    "def weights_init(m):\n",
    "    classname = m.__class__.__name__\n",
    "    if classname.find('Conv') != -1: nn.init.normal_(m.weight.data, 0.0, 0.02)\n",
    "    elif classname.find('BatchNorm') != -1: nn.init.normal_(m.weight.data, 1.0, 0.02); nn.init.constant_(m.bias.data, 0)\n",
    "class ConditionalGenerator(nn.Module):\n",
    "    def __init__(self, latent_dim, num_classes, embedding_dim, channels_img, features_g):\n",
    "        super(ConditionalGenerator, self).__init__(); self.embed = nn.Embedding(num_classes, embedding_dim)\n",
    "        self.net = nn.Sequential(\n",
    "            self._block(latent_dim+embedding_dim, features_g*16, 4, 1, 0), self._block(features_g*16, features_g*8, 4, 2, 1),\n",
    "            self._block(features_g*8, features_g*4, 4, 2, 1), self._block(features_g*4, features_g*2, 4, 2, 1),\n",
    "            self._block(features_g*2, features_g, 4, 2, 1), nn.ConvTranspose2d(features_g, channels_img, 4, 2, 1), nn.Tanh())\n",
    "    def _block(self, i, o, k, s, p): return nn.Sequential(nn.ConvTranspose2d(i, o, k, s, p, bias=False), nn.BatchNorm2d(o), nn.ReLU(True))\n",
    "    def forward(self, z, l): return self.net(torch.cat([z, self.embed(l).unsqueeze(2).unsqueeze(3)], 1))\n",
    "class ConditionalDiscriminator(nn.Module):\n",
    "    def __init__(self, num_classes, embedding_dim, channels_img, features_d):\n",
    "        super(ConditionalDiscriminator, self).__init__(); self.embed = nn.Embedding(num_classes, embedding_dim)\n",
    "        self.net = nn.Sequential(\n",
    "            nn.Conv2d(channels_img+embedding_dim, features_d, 4, 2, 1), nn.LeakyReLU(0.2, inplace=True),\n",
    "            self._block(features_d, features_d*2, 4, 2, 1), self._block(features_d*2, features_d*4, 4, 2, 1),\n",
    "            self._block(features_d*4, features_d*8, 4, 2, 1), self._block(features_d*8, features_d*16, 4, 2, 1),\n",
    "            nn.Conv2d(features_d*16, 1, 4, 1, 0), nn.Sigmoid())\n",
    "    def _block(self, i, o, k, s, p): return nn.Sequential(nn.Conv2d(i, o, k, s, p, bias=False), nn.BatchNorm2d(o), nn.LeakyReLU(0.2, True), nn.Dropout(0.3))\n",
    "    def forward(self, x, l):\n",
    "        emb = self.embed(l).view(l.shape[0], -1, 1, 1).expand(-1, -1, x.shape[2], x.shape[3])\n",
    "        return self.net(torch.cat([x, emb], 1)).view(-1, 1).squeeze(1)"
   ]
  },
  {
   "cell_type": "code",
   "execution_count": 6,
   "id": "da52ed50",
   "metadata": {
    "execution": {
     "iopub.execute_input": "2025-07-18T13:38:32.074647Z",
     "iopub.status.busy": "2025-07-18T13:38:32.074402Z",
     "iopub.status.idle": "2025-07-18T13:38:32.516995Z",
     "shell.execute_reply": "2025-07-18T13:38:32.516418Z"
    },
    "papermill": {
     "duration": 0.446752,
     "end_time": "2025-07-18T13:38:32.518236",
     "exception": false,
     "start_time": "2025-07-18T13:38:32.071484",
     "status": "completed"
    },
    "tags": []
   },
   "outputs": [],
   "source": [
    "gen = ConditionalGenerator(config.latent_dim, config.num_classes_subset, config.embedding_dim, config.img_channels, config.features_g).to(config.device)\n",
    "disc = ConditionalDiscriminator(config.num_classes_subset, config.embedding_dim, config.img_channels, config.features_d).to(config.device)\n",
    "gen.apply(weights_init); disc.apply(weights_init)\n",
    "\n",
    "criterion = nn.BCELoss()\n",
    "optimizerD = optim.Adam(disc.parameters(), lr=config.lr, betas=(config.beta1, config.beta2))\n",
    "optimizerG = optim.Adam(gen.parameters(), lr=config.lr, betas=(config.beta1, config.beta2))"
   ]
  },
  {
   "cell_type": "code",
   "execution_count": 7,
   "id": "9bf102f4",
   "metadata": {
    "execution": {
     "iopub.execute_input": "2025-07-18T13:38:32.524209Z",
     "iopub.status.busy": "2025-07-18T13:38:32.523980Z",
     "iopub.status.idle": "2025-07-18T14:16:29.214060Z",
     "shell.execute_reply": "2025-07-18T14:16:29.213045Z"
    },
    "papermill": {
     "duration": 2276.696487,
     "end_time": "2025-07-18T14:16:29.217272",
     "exception": false,
     "start_time": "2025-07-18T13:38:32.520785",
     "status": "completed"
    },
    "tags": []
   },
   "outputs": [
    {
     "name": "stdout",
     "output_type": "stream",
     "text": [
      "\n",
      "Starting training on 20-class subset...\n",
      "[Epoch 1/100] Avg Loss_D: 1.5690 | Avg Loss_G: 0.9821\n",
      "[Epoch 10/100] Avg Loss_D: 0.8627 | Avg Loss_G: 0.9234\n",
      "[Epoch 20/100] Avg Loss_D: 0.8060 | Avg Loss_G: 0.9121\n",
      "[Epoch 30/100] Avg Loss_D: 0.7799 | Avg Loss_G: 0.8765\n",
      "[Epoch 40/100] Avg Loss_D: 0.7865 | Avg Loss_G: 0.9054\n",
      "[Epoch 50/100] Avg Loss_D: 0.7632 | Avg Loss_G: 0.8574\n",
      "[Epoch 60/100] Avg Loss_D: 0.7453 | Avg Loss_G: 0.8694\n",
      "[Epoch 70/100] Avg Loss_D: 0.7337 | Avg Loss_G: 0.8422\n",
      "[Epoch 80/100] Avg Loss_D: 0.7519 | Avg Loss_G: 0.8488\n",
      "[Epoch 90/100] Avg Loss_D: 0.7367 | Avg Loss_G: 0.8341\n",
      "[Epoch 100/100] Avg Loss_D: 0.7535 | Avg Loss_G: 0.8374\n"
     ]
    }
   ],
   "source": [
    "G_losses, D_losses = [], []\n",
    "print(\"\\nStarting training on 20-class subset...\")\n",
    "for epoch in range(config.num_epochs):\n",
    "    epoch_loss_d, epoch_loss_g = 0.0, 0.0\n",
    "    for i, (real_imgs, labels) in enumerate(dataloader):\n",
    "        real_imgs, labels = real_imgs.to(config.device), labels.to(config.device)\n",
    "        b_size = real_imgs.size(0)\n",
    "        real_label = torch.full((b_size,), 1.0 - config.label_smoothing, device=config.device)\n",
    "        fake_label = torch.full((b_size,), 0.0, device=config.device)\n",
    "        \n",
    "        # Train Discriminator 'd_updates' times\n",
    "        for _ in range(config.d_updates_per_step):\n",
    "            disc.zero_grad()\n",
    "            with torch.no_grad():\n",
    "                noise = torch.randn(b_size, config.latent_dim, 1, 1, device=config.device)\n",
    "                fake_imgs = gen(noise, labels)\n",
    "            \n",
    "            output_real = disc(real_imgs, labels)\n",
    "            lossD_real = criterion(output_real, real_label)\n",
    "            output_fake = disc(fake_imgs.detach(), labels)\n",
    "            lossD_fake = criterion(output_fake, fake_label)\n",
    "            lossD = (lossD_real + lossD_fake) / 2\n",
    "            lossD.backward(); optimizerD.step()\n",
    "            epoch_loss_d += lossD.item()\n",
    "\n",
    "        # Train Generator 'g_updates' times\n",
    "        for _ in range(config.g_updates_per_step):\n",
    "            gen.zero_grad()\n",
    "            noise = torch.randn(b_size, config.latent_dim, 1, 1, device=config.device)\n",
    "            fake_imgs = gen(noise, labels)\n",
    "            output_gen = disc(fake_imgs, labels)\n",
    "            lossG = criterion(output_gen, real_label)\n",
    "            lossG.backward(); optimizerG.step()\n",
    "            epoch_loss_g += lossG.item()\n",
    "\n",
    "    avg_loss_d = epoch_loss_d / (len(dataloader) * config.d_updates_per_step)\n",
    "    avg_loss_g = epoch_loss_g / (len(dataloader) * config.g_updates_per_step)\n",
    "    G_losses.append(avg_loss_g)\n",
    "    D_losses.append(avg_loss_d)\n",
    "    \n",
    "    if (epoch + 1) % 10 == 0 or epoch == 0:\n",
    "        print(f\"[Epoch {epoch+1}/{config.num_epochs}] Avg Loss_D: {avg_loss_d:.4f} | Avg Loss_G: {avg_loss_g:.4f}\")\n"
   ]
  },
  {
   "cell_type": "code",
   "execution_count": 8,
   "id": "ce5a57e7",
   "metadata": {
    "execution": {
     "iopub.execute_input": "2025-07-18T14:16:29.224635Z",
     "iopub.status.busy": "2025-07-18T14:16:29.223713Z",
     "iopub.status.idle": "2025-07-18T14:16:29.715858Z",
     "shell.execute_reply": "2025-07-18T14:16:29.715131Z"
    },
    "papermill": {
     "duration": 0.497603,
     "end_time": "2025-07-18T14:16:29.717749",
     "exception": false,
     "start_time": "2025-07-18T14:16:29.220146",
     "status": "completed"
    },
    "tags": []
   },
   "outputs": [
    {
     "data": {
      "image/png": "[encoded data removed]",
      "text/plain": [
       "<Figure size 1000x500 with 1 Axes>"
      ]
     },
     "metadata": {},
     "output_type": "display_data"
    }
   ],
   "source": [
    "torch.save(gen.state_dict(), os.path.join(config.output_dir, 'generator_20_class.pth'))\n",
    "torch.save(disc.state_dict(), os.path.join(config.output_dir, 'discriminator_20_class.pth'))\n",
    "np.save(os.path.join(config.output_dir, 'selected_class_names.npy'), np.array(selected_class_names))\n",
    "torch.save(class_mapping, os.path.join(config.output_dir, 'class_mapping.pth'))\n",
    "\n",
    "plt.figure(figsize=(10, 5))\n",
    "plt.title(\"Loss Curves (20-Class Subset, D:G Ratio 1:7)\")\n",
    "plt.plot(G_losses, label=\"Generator\"); plt.plot(D_losses, label=\"Discriminator\")\n",
    "plt.xlabel(\"Epochs\"); plt.ylabel(\"Loss\"); plt.legend(); plt.grid(True)\n",
    "plt.savefig(os.path.join(config.output_dir, \"loss_curve_20_class.png\"))\n",
    "plt.show()"
   ]
  },
  {
   "cell_type": "code",
   "execution_count": null,
   "id": "683d6e4c",
   "metadata": {
    "papermill": {
     "duration": 0.003394,
     "end_time": "2025-07-18T14:16:29.725154",
     "exception": false,
     "start_time": "2025-07-18T14:16:29.721760",
     "status": "completed"
    },
    "tags": []
   },
   "outputs": [],
   "source": []
  },
  {
   "cell_type": "code",
   "execution_count": null,
   "id": "bbb1fa98",
   "metadata": {
    "papermill": {
     "duration": 0.003216,
     "end_time": "2025-07-18T14:16:29.731863",
     "exception": false,
     "start_time": "2025-07-18T14:16:29.728647",
     "status": "completed"
    },
    "tags": []
   },
   "outputs": [],
   "source": []
  },
  {
   "cell_type": "code",
   "execution_count": null,
   "id": "28c41730",
   "metadata": {
    "papermill": {
     "duration": 0.003286,
     "end_time": "2025-07-18T14:16:29.738528",
     "exception": false,
     "start_time": "2025-07-18T14:16:29.735242",
     "status": "completed"
    },
    "tags": []
   },
   "outputs": [],
   "source": []
  },
  {
   "cell_type": "code",
   "execution_count": null,
   "id": "063ed39e",
   "metadata": {
    "papermill": {
     "duration": 0.003393,
     "end_time": "2025-07-18T14:16:29.745296",
     "exception": false,
     "start_time": "2025-07-18T14:16:29.741903",
     "status": "completed"
    },
    "tags": []
   },
   "outputs": [],
   "source": []
  },
  {
   "cell_type": "code",
   "execution_count": null,
   "id": "acd06e8c",
   "metadata": {
    "papermill": {
     "duration": 0.003442,
     "end_time": "2025-07-18T14:16:29.752670",
     "exception": false,
     "start_time": "2025-07-18T14:16:29.749228",
     "status": "completed"
    },
    "tags": []
   },
   "outputs": [],
   "source": []
  },
  {
   "cell_type": "code",
   "execution_count": null,
   "id": "c1f93da2",
   "metadata": {
    "papermill": {
     "duration": 0.00317,
     "end_time": "2025-07-18T14:16:29.759213",
     "exception": false,
     "start_time": "2025-07-18T14:16:29.756043",
     "status": "completed"
    },
    "tags": []
   },
   "outputs": [],
   "source": []
  }
 ],
 "metadata": {
  "kaggle": {
   "accelerator": "gpu",
   "dataSources": [
    {
     "datasetId": 7888962,
     "sourceId": 12499911,
     "sourceType": "datasetVersion"
    }
   ],
   "isGpuEnabled": true,
   "isInternetEnabled": true,
   "language": "python",
   "sourceType": "notebook"
  },
  "kernelspec": {
   "display_name": "Python 3",
   "language": "python",
   "name": "python3"
  },
  "language_info": {
   "codemirror_mode": {
    "name": "ipython",
    "version": 3
   },
   "file_extension": ".py",
   "mimetype": "text/x-python",
   "name": "python",
   "nbconvert_exporter": "python",
   "pygments_lexer": "ipython3",
   "version": "3.11.13"
  },
  "papermill": {
   "default_parameters": {},
   "duration": 2300.480822,
   "end_time": "2025-07-18T14:16:31.284678",
   "environment_variables": {},
   "exception": null,
   "input_path": "__notebook__.ipynb",
   "output_path": "__notebook__.ipynb",
   "parameters": {},
   "start_time": "2025-07-18T13:38:10.803856",
   "version": "2.6.0"
  }
 },
 "nbformat": 4,
 "nbformat_minor": 5
}
