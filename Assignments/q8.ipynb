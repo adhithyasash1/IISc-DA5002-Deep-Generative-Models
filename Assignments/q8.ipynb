{
 "cells": [
  {
   "cell_type": "code",
   "execution_count": 1,
   "id": "1c037995",
   "metadata": {
    "execution": {
     "iopub.execute_input": "2025-07-18T16:25:59.568611Z",
     "iopub.status.busy": "2025-07-18T16:25:59.568264Z",
     "iopub.status.idle": "2025-07-18T16:26:11.225101Z",
     "shell.execute_reply": "2025-07-18T16:26:11.224096Z"
    },
    "papermill": {
     "duration": 11.66154,
     "end_time": "2025-07-18T16:26:11.226596",
     "exception": false,
     "start_time": "2025-07-18T16:25:59.565056",
     "status": "completed"
    },
    "tags": []
   },
   "outputs": [
    {
     "name": "stdout",
     "output_type": "stream",
     "text": [
      "Configuration loaded for Question 8. Using device: cuda\n"
     ]
    }
   ],
   "source": [
    "import torch\n",
    "import torch.nn as nn\n",
    "import torch.optim as optim\n",
    "import torchvision.datasets as datasets\n",
    "import torchvision.transforms as transforms\n",
    "import torchvision.models as models\n",
    "from torch.utils.data import DataLoader, random_split, Subset, Dataset\n",
    "from sklearn.metrics import accuracy_score, f1_score\n",
    "import numpy as np\n",
    "import os\n",
    "from tqdm import tqdm\n",
    "\n",
    "# --- 1. CONFIGURATION ---\n",
    "class Config_Q8:\n",
    "    device = \"cuda\" if torch.cuda.is_available() else \"cpu\"\n",
    "    num_workers = 2\n",
    "    dataset_path = '/kaggle/input/dgm-animals/Animals_data/animals/animals'\n",
    "    \n",
    "    # Path to the results from Q6, which contains the class list\n",
    "    q6_output_dir = '/kaggle/input/dgm_q6_results/pytorch/default/1/Q6_cGAN_20_classes_G_heavy'\n",
    "    \n",
    "    # Model and Training Parameters\n",
    "    num_classes = 20\n",
    "    batch_size = 32\n",
    "    num_epochs = 20 # Increased epochs for better convergence\n",
    "    lr = 0.001\n",
    "    val_split = 0.2\n",
    "    output_dir = '/kaggle/working/Q8_ResNet_20_classes'\n",
    "\n",
    "config = Config_Q8()\n",
    "os.makedirs(config.output_dir, exist_ok=True)\n",
    "print(f\"Configuration loaded for Question 8. Using device: {config.device}\")"
   ]
  },
  {
   "cell_type": "code",
   "execution_count": 2,
   "id": "2767e1c0",
   "metadata": {
    "execution": {
     "iopub.execute_input": "2025-07-18T16:26:11.231882Z",
     "iopub.status.busy": "2025-07-18T16:26:11.231512Z",
     "iopub.status.idle": "2025-07-18T16:26:26.094319Z",
     "shell.execute_reply": "2025-07-18T16:26:26.093449Z"
    },
    "papermill": {
     "duration": 14.866669,
     "end_time": "2025-07-18T16:26:26.095644",
     "exception": false,
     "start_time": "2025-07-18T16:26:11.228975",
     "status": "completed"
    },
    "tags": []
   },
   "outputs": [
    {
     "name": "stdout",
     "output_type": "stream",
     "text": [
      "Loaded 20 classes from Question 6.\n",
      "Data prepared. Total samples for 20 classes: 1193\n"
     ]
    }
   ],
   "source": [
    "# --- CUSTOM DATASET WRAPPER (from Q6) ---\n",
    "class ClassSubsetDataset(Dataset):\n",
    "    def __init__(self, subset, class_mapping):\n",
    "        self.subset, self.class_mapping = subset, class_mapping\n",
    "    def __getitem__(self, index):\n",
    "        image, original_label_idx = self.subset[index]\n",
    "        new_label_idx = self.class_mapping[original_label_idx]\n",
    "        return image, new_label_idx\n",
    "    def __len__(self):\n",
    "        return len(self.subset)\n",
    "\n",
    "# --- DATA TRANSFORMS (from Q7) ---\n",
    "data_transforms = {\n",
    "    'train': transforms.Compose([\n",
    "        transforms.RandomResizedCrop(224), transforms.RandomHorizontalFlip(),\n",
    "        transforms.ToTensor(), transforms.Normalize([0.485, 0.456, 0.406], [0.229, 0.224, 0.225])]),\n",
    "    'val': transforms.Compose([\n",
    "        transforms.Resize(256), transforms.CenterCrop(224),\n",
    "        transforms.ToTensor(), transforms.Normalize([0.485, 0.456, 0.406], [0.229, 0.224, 0.225])]),\n",
    "}\n",
    "\n",
    "# --- LOAD THE 20 SELECTED CLASSES FROM Q6 ---\n",
    "selected_class_names = np.load(os.path.join(config.q6_output_dir, 'selected_class_names.npy'))\n",
    "class_mapping = torch.load(os.path.join(config.q6_output_dir, 'class_mapping.pth'))\n",
    "print(f\"Loaded {len(selected_class_names)} classes from Question 6.\")\n",
    "\n",
    "# --- CREATE FILTERED DATASETS WITH DIFFERENT TRANSFORMS ---\n",
    "full_dataset_train = datasets.ImageFolder(root=config.dataset_path, transform=data_transforms['train'])\n",
    "full_dataset_val = datasets.ImageFolder(root=config.dataset_path, transform=data_transforms['val'])\n",
    "\n",
    "selected_class_indices = [full_dataset_train.class_to_idx[name] for name in selected_class_names]\n",
    "subset_indices = [i for i, (_, label_idx) in enumerate(full_dataset_train.samples) if label_idx in selected_class_indices]\n",
    "\n",
    "# Create subsets\n",
    "train_subset_filtered = Subset(full_dataset_train, subset_indices)\n",
    "val_subset_filtered = Subset(full_dataset_val, subset_indices)\n",
    "\n",
    "# Wrap them to remap labels\n",
    "train_dataset = ClassSubsetDataset(train_subset_filtered, class_mapping)\n",
    "val_dataset = ClassSubsetDataset(val_subset_filtered, class_mapping)\n",
    "\n",
    "# Create DataLoaders\n",
    "train_loader = DataLoader(train_dataset, batch_size=config.batch_size, shuffle=True, num_workers=config.num_workers)\n",
    "val_loader = DataLoader(val_dataset, batch_size=config.batch_size, shuffle=False, num_workers=config.num_workers)\n",
    "print(f\"Data prepared. Total samples for 20 classes: {len(train_dataset)}\")"
   ]
  },
  {
   "cell_type": "code",
   "execution_count": 3,
   "id": "f9182321",
   "metadata": {
    "execution": {
     "iopub.execute_input": "2025-07-18T16:26:26.100293Z",
     "iopub.status.busy": "2025-07-18T16:26:26.100089Z",
     "iopub.status.idle": "2025-07-18T16:32:23.727158Z",
     "shell.execute_reply": "2025-07-18T16:32:23.725739Z"
    },
    "papermill": {
     "duration": 357.63121,
     "end_time": "2025-07-18T16:32:23.728790",
     "exception": false,
     "start_time": "2025-07-18T16:26:26.097580",
     "status": "completed"
    },
    "tags": []
   },
   "outputs": [
    {
     "name": "stderr",
     "output_type": "stream",
     "text": [
      "Downloading: \"https://download.pytorch.org/models/resnet50-11ad3fa6.pth\" to /root/.cache/torch/hub/checkpoints/resnet50-11ad3fa6.pth\n",
      "100%|██████████| 97.8M/97.8M [00:00<00:00, 182MB/s]\n"
     ]
    },
    {
     "name": "stdout",
     "output_type": "stream",
     "text": [
      "\n",
      "Starting training for Question 8...\n"
     ]
    },
    {
     "name": "stderr",
     "output_type": "stream",
     "text": [
      "Epoch 1/20: 100%|██████████| 38/38 [00:12<00:00,  2.94it/s]\n",
      "Epoch 2/20: 100%|██████████| 38/38 [00:08<00:00,  4.49it/s]\n",
      "Epoch 3/20: 100%|██████████| 38/38 [00:08<00:00,  4.57it/s]\n",
      "Epoch 4/20: 100%|██████████| 38/38 [00:08<00:00,  4.60it/s]\n",
      "Epoch 5/20: 100%|██████████| 38/38 [00:08<00:00,  4.58it/s]\n",
      "Epoch 6/20: 100%|██████████| 38/38 [00:08<00:00,  4.51it/s]\n",
      "Epoch 7/20: 100%|██████████| 38/38 [00:08<00:00,  4.54it/s]\n",
      "Epoch 8/20: 100%|██████████| 38/38 [00:08<00:00,  4.67it/s]\n",
      "Epoch 9/20: 100%|██████████| 38/38 [00:08<00:00,  4.75it/s]\n",
      "Epoch 10/20: 100%|██████████| 38/38 [00:08<00:00,  4.37it/s]\n",
      "Epoch 11/20: 100%|██████████| 38/38 [00:08<00:00,  4.73it/s]\n",
      "Epoch 12/20: 100%|██████████| 38/38 [00:08<00:00,  4.66it/s]\n",
      "Epoch 13/20: 100%|██████████| 38/38 [00:08<00:00,  4.68it/s]\n",
      "Epoch 14/20: 100%|██████████| 38/38 [00:08<00:00,  4.65it/s]\n",
      "Epoch 15/20: 100%|██████████| 38/38 [00:08<00:00,  4.40it/s]\n",
      "Epoch 16/20: 100%|██████████| 38/38 [00:09<00:00,  4.06it/s]\n",
      "Epoch 17/20: 100%|██████████| 38/38 [00:08<00:00,  4.49it/s]\n",
      "Epoch 18/20: 100%|██████████| 38/38 [00:08<00:00,  4.48it/s]\n",
      "Epoch 19/20: 100%|██████████| 38/38 [00:08<00:00,  4.48it/s]\n",
      "Epoch 20/20: 100%|██████████| 38/38 [00:08<00:00,  4.39it/s]\n"
     ]
    },
    {
     "name": "stdout",
     "output_type": "stream",
     "text": [
      "\n",
      "Training for Question 8 finished.\n",
      "\n",
      "==================================================\n",
      "  Question 8: Classifier Performance (Without Augmentation)\n",
      "==================================================\n",
      "Classification Accuracy: 0.9883\n",
      "Weighted F1 Score:       0.9882\n",
      "==================================================\n"
     ]
    }
   ],
   "source": [
    "# --- MODEL SETUP ---\n",
    "model_q8 = models.resnet50(weights=models.ResNet50_Weights.DEFAULT)\n",
    "model_q8.fc = nn.Linear(model_q8.fc.in_features, config.num_classes)\n",
    "model_q8 = model_q8.to(config.device)\n",
    "\n",
    "# --- TRAINING ---\n",
    "criterion = nn.CrossEntropyLoss()\n",
    "optimizer = optim.Adam(model_q8.parameters(), lr=config.lr)\n",
    "best_val_accuracy_q8 = 0.0\n",
    "print(\"\\nStarting training for Question 8...\")\n",
    "\n",
    "for epoch in range(config.num_epochs):\n",
    "    model_q8.train()\n",
    "    # Simplified training loop for brevity\n",
    "    for inputs, labels in tqdm(train_loader, desc=f\"Epoch {epoch+1}/{config.num_epochs}\"):\n",
    "        inputs, labels = inputs.to(config.device), labels.to(config.device)\n",
    "        optimizer.zero_grad()\n",
    "        outputs = model_q8(inputs)\n",
    "        loss = criterion(outputs, labels)\n",
    "        loss.backward()\n",
    "        optimizer.step()\n",
    "\n",
    "    # --- VALIDATION ---\n",
    "    model_q8.eval()\n",
    "    all_preds, all_labels = [], []\n",
    "    with torch.no_grad():\n",
    "        for inputs, labels in val_loader:\n",
    "            inputs, labels = inputs.to(config.device), labels.to(config.device)\n",
    "            outputs = model_q8(inputs)\n",
    "            _, preds = torch.max(outputs, 1)\n",
    "            all_preds.extend(preds.cpu().numpy())\n",
    "            all_labels.extend(labels.cpu().numpy())\n",
    "    \n",
    "    epoch_val_accuracy = accuracy_score(all_labels, all_preds)\n",
    "    if epoch_val_accuracy > best_val_accuracy_q8:\n",
    "        best_val_accuracy_q8 = epoch_val_accuracy\n",
    "        torch.save(model_q8.state_dict(), os.path.join(config.output_dir, 'best_model_q8.pth'))\n",
    "\n",
    "print(\"\\nTraining for Question 8 finished.\")\n",
    "\n",
    "# --- FINAL METRIC CALCULATION (Q8) ---\n",
    "model_q8.load_state_dict(torch.load(os.path.join(config.output_dir, 'best_model_q8.pth')))\n",
    "final_accuracy_q8 = accuracy_score(all_labels, all_preds)\n",
    "final_f1_score_q8 = f1_score(all_labels, all_preds, average='weighted')\n",
    "\n",
    "print(\"\\n\" + \"=\"*50)\n",
    "print(\"  Question 8: Classifier Performance (Without Augmentation)\")\n",
    "print(\"=\"*50)\n",
    "print(f\"Classification Accuracy: {final_accuracy_q8:.4f}\")\n",
    "print(f\"Weighted F1 Score:       {final_f1_score_q8:.4f}\")\n",
    "print(\"=\"*50)"
   ]
  },
  {
   "cell_type": "code",
   "execution_count": null,
   "id": "ad87ab30",
   "metadata": {
    "papermill": {
     "duration": 0.103403,
     "end_time": "2025-07-18T16:32:23.869071",
     "exception": false,
     "start_time": "2025-07-18T16:32:23.765668",
     "status": "completed"
    },
    "tags": []
   },
   "outputs": [],
   "source": []
  },
  {
   "cell_type": "code",
   "execution_count": null,
   "id": "3fd2a19e",
   "metadata": {
    "papermill": {
     "duration": 0.038591,
     "end_time": "2025-07-18T16:32:23.945306",
     "exception": false,
     "start_time": "2025-07-18T16:32:23.906715",
     "status": "completed"
    },
    "tags": []
   },
   "outputs": [],
   "source": []
  },
  {
   "cell_type": "code",
   "execution_count": null,
   "id": "5f774377",
   "metadata": {
    "papermill": {
     "duration": 0.038501,
     "end_time": "2025-07-18T16:32:24.022943",
     "exception": false,
     "start_time": "2025-07-18T16:32:23.984442",
     "status": "completed"
    },
    "tags": []
   },
   "outputs": [],
   "source": []
  },
  {
   "cell_type": "code",
   "execution_count": null,
   "id": "adcacacb",
   "metadata": {
    "papermill": {
     "duration": 0.038043,
     "end_time": "2025-07-18T16:32:24.099300",
     "exception": false,
     "start_time": "2025-07-18T16:32:24.061257",
     "status": "completed"
    },
    "tags": []
   },
   "outputs": [],
   "source": []
  }
 ],
 "metadata": {
  "kaggle": {
   "accelerator": "none",
   "dataSources": [
    {
     "datasetId": 7888962,
     "sourceId": 12499911,
     "sourceType": "datasetVersion"
    },
    {
     "isSourceIdPinned": true,
     "modelId": 403342,
     "modelInstanceId": 383933,
     "sourceId": 477395,
     "sourceType": "modelInstanceVersion"
    }
   ],
   "isGpuEnabled": false,
   "isInternetEnabled": true,
   "language": "python",
   "sourceType": "notebook"
  },
  "kernelspec": {
   "display_name": "Python 3",
   "language": "python",
   "name": "python3"
  },
  "language_info": {
   "codemirror_mode": {
    "name": "ipython",
    "version": 3
   },
   "file_extension": ".py",
   "mimetype": "text/x-python",
   "name": "python",
   "nbconvert_exporter": "python",
   "pygments_lexer": "ipython3",
   "version": "3.11.13"
  },
  "papermill": {
   "default_parameters": {},
   "duration": 391.515554,
   "end_time": "2025-07-18T16:32:26.638952",
   "environment_variables": {},
   "exception": null,
   "input_path": "__notebook__.ipynb",
   "output_path": "__notebook__.ipynb",
   "parameters": {},
   "start_time": "2025-07-18T16:25:55.123398",
   "version": "2.6.0"
  }
 },
 "nbformat": 4,
 "nbformat_minor": 5
}
