{
 "cells": [
  {
   "cell_type": "code",
   "execution_count": 1,
   "id": "38ab140b",
   "metadata": {
    "execution": {
     "iopub.execute_input": "2025-07-18T16:11:23.992506Z",
     "iopub.status.busy": "2025-07-18T16:11:23.992207Z",
     "iopub.status.idle": "2025-07-18T16:11:36.439982Z",
     "shell.execute_reply": "2025-07-18T16:11:36.439155Z"
    },
    "papermill": {
     "duration": 12.452066,
     "end_time": "2025-07-18T16:11:36.441246",
     "exception": false,
     "start_time": "2025-07-18T16:11:23.989180",
     "status": "completed"
    },
    "tags": []
   },
   "outputs": [
    {
     "name": "stdout",
     "output_type": "stream",
     "text": [
      "Configuration loaded. Using device: cuda\n"
     ]
    }
   ],
   "source": [
    "import torch\n",
    "import torch.nn as nn\n",
    "import torch.optim as optim\n",
    "import torchvision.datasets as datasets\n",
    "import torchvision.transforms as transforms\n",
    "import torchvision.models as models\n",
    "from torch.utils.data import DataLoader, random_split\n",
    "from sklearn.metrics import accuracy_score, f1_score\n",
    "import numpy as np\n",
    "import os\n",
    "from tqdm import tqdm # For a nice progress bar\n",
    "\n",
    "# --- 1. CONFIGURATION ---\n",
    "class Config:\n",
    "    device = \"cuda\" if torch.cuda.is_available() else \"cpu\"\n",
    "    num_workers = 2\n",
    "    dataset_path = '/kaggle/input/dgm-animals/Animals_data/animals/animals'\n",
    "    \n",
    "    # Model and Training Parameters\n",
    "    num_classes = 90\n",
    "    batch_size = 32 # Smaller batch size for a large model like ResNet-50\n",
    "    num_epochs = 15\n",
    "    lr = 0.001\n",
    "    \n",
    "    # Data Split\n",
    "    val_split = 0.2\n",
    "    \n",
    "    # Output\n",
    "    output_dir = '/kaggle/working/Q7_ResNet_Classifier'\n",
    "\n",
    "config = Config()\n",
    "os.makedirs(config.output_dir, exist_ok=True)\n",
    "print(f\"Configuration loaded. Using device: {config.device}\")"
   ]
  },
  {
   "cell_type": "code",
   "execution_count": 2,
   "id": "df660b49",
   "metadata": {
    "execution": {
     "iopub.execute_input": "2025-07-18T16:11:36.446173Z",
     "iopub.status.busy": "2025-07-18T16:11:36.445463Z",
     "iopub.status.idle": "2025-07-18T16:11:47.866127Z",
     "shell.execute_reply": "2025-07-18T16:11:47.865293Z"
    },
    "papermill": {
     "duration": 11.424122,
     "end_time": "2025-07-18T16:11:47.867385",
     "exception": false,
     "start_time": "2025-07-18T16:11:36.443263",
     "status": "completed"
    },
    "tags": []
   },
   "outputs": [
    {
     "name": "stdout",
     "output_type": "stream",
     "text": [
      "Data prepared. Training samples: 4301, Validation samples: 1075\n"
     ]
    }
   ],
   "source": [
    "# --- DATA TRANSFORMS ---\n",
    "# For training, we use data augmentation. For validation, we only resize and normalize.\n",
    "# The normalization values are standard for models pre-trained on ImageNet.\n",
    "data_transforms = {\n",
    "    'train': transforms.Compose([\n",
    "        transforms.RandomResizedCrop(224),\n",
    "        transforms.RandomHorizontalFlip(),\n",
    "        transforms.ToTensor(),\n",
    "        transforms.Normalize([0.485, 0.456, 0.406], [0.229, 0.224, 0.225])\n",
    "    ]),\n",
    "    'val': transforms.Compose([\n",
    "        transforms.Resize(256),\n",
    "        transforms.CenterCrop(224),\n",
    "        transforms.ToTensor(),\n",
    "        transforms.Normalize([0.485, 0.456, 0.406], [0.229, 0.224, 0.225])\n",
    "    ]),\n",
    "}\n",
    "\n",
    "# --- CREATE AND SPLIT DATASET ---\n",
    "# We create two instances of the dataset with different transforms\n",
    "full_dataset_train = datasets.ImageFolder(root=config.dataset_path, transform=data_transforms['train'])\n",
    "full_dataset_val = datasets.ImageFolder(root=config.dataset_path, transform=data_transforms['val'])\n",
    "\n",
    "# Split the dataset indices\n",
    "dataset_size = len(full_dataset_train)\n",
    "val_size = int(config.val_split * dataset_size)\n",
    "train_size = dataset_size - val_size\n",
    "train_indices, val_indices = random_split(range(dataset_size), [train_size, val_size])\n",
    "\n",
    "# Create subsets for train and validation\n",
    "train_subset = torch.utils.data.Subset(full_dataset_train, train_indices)\n",
    "val_subset = torch.utils.data.Subset(full_dataset_val, val_indices)\n",
    "\n",
    "# Create DataLoaders\n",
    "train_loader = DataLoader(train_subset, batch_size=config.batch_size, shuffle=True, num_workers=config.num_workers)\n",
    "val_loader = DataLoader(val_subset, batch_size=config.batch_size, shuffle=False, num_workers=config.num_workers)\n",
    "\n",
    "print(f\"Data prepared. Training samples: {len(train_subset)}, Validation samples: {len(val_subset)}\")"
   ]
  },
  {
   "cell_type": "code",
   "execution_count": 3,
   "id": "891ee0d2",
   "metadata": {
    "execution": {
     "iopub.execute_input": "2025-07-18T16:11:47.871940Z",
     "iopub.status.busy": "2025-07-18T16:11:47.871432Z",
     "iopub.status.idle": "2025-07-18T16:11:49.064438Z",
     "shell.execute_reply": "2025-07-18T16:11:49.063580Z"
    },
    "papermill": {
     "duration": 1.196608,
     "end_time": "2025-07-18T16:11:49.065822",
     "exception": false,
     "start_time": "2025-07-18T16:11:47.869214",
     "status": "completed"
    },
    "tags": []
   },
   "outputs": [
    {
     "name": "stderr",
     "output_type": "stream",
     "text": [
      "Downloading: \"https://download.pytorch.org/models/resnet50-11ad3fa6.pth\" to /root/.cache/torch/hub/checkpoints/resnet50-11ad3fa6.pth\n",
      "100%|██████████| 97.8M/97.8M [00:00<00:00, 230MB/s]\n"
     ]
    },
    {
     "name": "stdout",
     "output_type": "stream",
     "text": [
      "ResNet-50 model loaded and final layer replaced for fine-tuning.\n"
     ]
    }
   ],
   "source": [
    "# --- LOAD PRE-TRAINED RESNET-50 ---\n",
    "# Load ResNet-50 with the latest recommended weights\n",
    "model = models.resnet50(weights=models.ResNet50_Weights.DEFAULT)\n",
    "\n",
    "# --- FREEZE PRE-TRAINED LAYERS (Optional, but good practice for fine-tuning) ---\n",
    "# for param in model.parameters():\n",
    "#     param.requires_grad = False\n",
    "\n",
    "# --- REPLACE THE FINAL CLASSIFICATION LAYER ---\n",
    "# Get the number of input features for the classifier\n",
    "num_ftrs = model.fc.in_features\n",
    "\n",
    "# Create a new final layer for our 90 classes\n",
    "model.fc = nn.Linear(num_ftrs, config.num_classes)\n",
    "\n",
    "# Move the model to the configured device\n",
    "model = model.to(config.device)\n",
    "\n",
    "print(\"ResNet-50 model loaded and final layer replaced for fine-tuning.\")"
   ]
  },
  {
   "cell_type": "code",
   "execution_count": 4,
   "id": "78d8bd25",
   "metadata": {
    "execution": {
     "iopub.execute_input": "2025-07-18T16:11:49.071366Z",
     "iopub.status.busy": "2025-07-18T16:11:49.070778Z",
     "iopub.status.idle": "2025-07-18T16:21:13.114573Z",
     "shell.execute_reply": "2025-07-18T16:21:13.113525Z"
    },
    "papermill": {
     "duration": 564.047719,
     "end_time": "2025-07-18T16:21:13.115803",
     "exception": false,
     "start_time": "2025-07-18T16:11:49.068084",
     "status": "completed"
    },
    "tags": []
   },
   "outputs": [
    {
     "name": "stdout",
     "output_type": "stream",
     "text": [
      "\n",
      "Starting training...\n"
     ]
    },
    {
     "name": "stderr",
     "output_type": "stream",
     "text": [
      "Epoch 1/15 [T]: 100%|██████████| 135/135 [00:41<00:00,  3.28it/s]\n",
      "Epoch 1/15 [V]: 100%|██████████| 34/34 [00:12<00:00,  2.82it/s]\n"
     ]
    },
    {
     "name": "stdout",
     "output_type": "stream",
     "text": [
      "Epoch 1/15 -> Train Loss: 3.1436 | Val Loss: 2.6255 | Val Accuracy: 0.4047\n",
      "*** New best model saved with accuracy: 0.4047 ***\n"
     ]
    },
    {
     "name": "stderr",
     "output_type": "stream",
     "text": [
      "Epoch 2/15 [T]: 100%|██████████| 135/135 [00:28<00:00,  4.77it/s]\n",
      "Epoch 2/15 [V]: 100%|██████████| 34/34 [00:08<00:00,  3.99it/s]\n"
     ]
    },
    {
     "name": "stdout",
     "output_type": "stream",
     "text": [
      "Epoch 2/15 -> Train Loss: 2.0837 | Val Loss: 2.3495 | Val Accuracy: 0.4335\n",
      "*** New best model saved with accuracy: 0.4335 ***\n"
     ]
    },
    {
     "name": "stderr",
     "output_type": "stream",
     "text": [
      "Epoch 3/15 [T]: 100%|██████████| 135/135 [00:27<00:00,  4.86it/s]\n",
      "Epoch 3/15 [V]: 100%|██████████| 34/34 [00:08<00:00,  4.10it/s]\n"
     ]
    },
    {
     "name": "stdout",
     "output_type": "stream",
     "text": [
      "Epoch 3/15 -> Train Loss: 1.6789 | Val Loss: 1.4916 | Val Accuracy: 0.6000\n",
      "*** New best model saved with accuracy: 0.6000 ***\n"
     ]
    },
    {
     "name": "stderr",
     "output_type": "stream",
     "text": [
      "Epoch 4/15 [T]: 100%|██████████| 135/135 [00:28<00:00,  4.72it/s]\n",
      "Epoch 4/15 [V]: 100%|██████████| 34/34 [00:08<00:00,  4.11it/s]\n"
     ]
    },
    {
     "name": "stdout",
     "output_type": "stream",
     "text": [
      "Epoch 4/15 -> Train Loss: 1.3974 | Val Loss: 1.4456 | Val Accuracy: 0.6214\n",
      "*** New best model saved with accuracy: 0.6214 ***\n"
     ]
    },
    {
     "name": "stderr",
     "output_type": "stream",
     "text": [
      "Epoch 5/15 [T]: 100%|██████████| 135/135 [00:28<00:00,  4.78it/s]\n",
      "Epoch 5/15 [V]: 100%|██████████| 34/34 [00:08<00:00,  4.15it/s]\n"
     ]
    },
    {
     "name": "stdout",
     "output_type": "stream",
     "text": [
      "Epoch 5/15 -> Train Loss: 1.2096 | Val Loss: 1.2003 | Val Accuracy: 0.6874\n",
      "*** New best model saved with accuracy: 0.6874 ***\n"
     ]
    },
    {
     "name": "stderr",
     "output_type": "stream",
     "text": [
      "Epoch 6/15 [T]: 100%|██████████| 135/135 [00:28<00:00,  4.72it/s]\n",
      "Epoch 6/15 [V]: 100%|██████████| 34/34 [00:08<00:00,  4.16it/s]\n"
     ]
    },
    {
     "name": "stdout",
     "output_type": "stream",
     "text": [
      "Epoch 6/15 -> Train Loss: 1.1192 | Val Loss: 1.1769 | Val Accuracy: 0.7116\n",
      "*** New best model saved with accuracy: 0.7116 ***\n"
     ]
    },
    {
     "name": "stderr",
     "output_type": "stream",
     "text": [
      "Epoch 7/15 [T]: 100%|██████████| 135/135 [00:28<00:00,  4.79it/s]\n",
      "Epoch 7/15 [V]: 100%|██████████| 34/34 [00:08<00:00,  4.12it/s]\n"
     ]
    },
    {
     "name": "stdout",
     "output_type": "stream",
     "text": [
      "Epoch 7/15 -> Train Loss: 0.9282 | Val Loss: 1.3416 | Val Accuracy: 0.6819\n"
     ]
    },
    {
     "name": "stderr",
     "output_type": "stream",
     "text": [
      "Epoch 8/15 [T]: 100%|██████████| 135/135 [00:27<00:00,  4.84it/s]\n",
      "Epoch 8/15 [V]: 100%|██████████| 34/34 [00:08<00:00,  4.23it/s]\n"
     ]
    },
    {
     "name": "stdout",
     "output_type": "stream",
     "text": [
      "Epoch 8/15 -> Train Loss: 0.9182 | Val Loss: 1.1643 | Val Accuracy: 0.6902\n"
     ]
    },
    {
     "name": "stderr",
     "output_type": "stream",
     "text": [
      "Epoch 9/15 [T]: 100%|██████████| 135/135 [00:28<00:00,  4.79it/s]\n",
      "Epoch 9/15 [V]: 100%|██████████| 34/34 [00:08<00:00,  3.96it/s]\n"
     ]
    },
    {
     "name": "stdout",
     "output_type": "stream",
     "text": [
      "Epoch 9/15 -> Train Loss: 0.8731 | Val Loss: 0.9973 | Val Accuracy: 0.7302\n",
      "*** New best model saved with accuracy: 0.7302 ***\n"
     ]
    },
    {
     "name": "stderr",
     "output_type": "stream",
     "text": [
      "Epoch 10/15 [T]: 100%|██████████| 135/135 [00:27<00:00,  4.84it/s]\n",
      "Epoch 10/15 [V]: 100%|██████████| 34/34 [00:08<00:00,  4.10it/s]\n"
     ]
    },
    {
     "name": "stdout",
     "output_type": "stream",
     "text": [
      "Epoch 10/15 -> Train Loss: 0.7598 | Val Loss: 1.0400 | Val Accuracy: 0.7349\n",
      "*** New best model saved with accuracy: 0.7349 ***\n"
     ]
    },
    {
     "name": "stderr",
     "output_type": "stream",
     "text": [
      "Epoch 11/15 [T]: 100%|██████████| 135/135 [00:27<00:00,  4.89it/s]\n",
      "Epoch 11/15 [V]: 100%|██████████| 34/34 [00:08<00:00,  4.12it/s]\n"
     ]
    },
    {
     "name": "stdout",
     "output_type": "stream",
     "text": [
      "Epoch 11/15 -> Train Loss: 0.7417 | Val Loss: 0.9660 | Val Accuracy: 0.7609\n",
      "*** New best model saved with accuracy: 0.7609 ***\n"
     ]
    },
    {
     "name": "stderr",
     "output_type": "stream",
     "text": [
      "Epoch 12/15 [T]: 100%|██████████| 135/135 [00:28<00:00,  4.80it/s]\n",
      "Epoch 12/15 [V]: 100%|██████████| 34/34 [00:08<00:00,  4.12it/s]\n"
     ]
    },
    {
     "name": "stdout",
     "output_type": "stream",
     "text": [
      "Epoch 12/15 -> Train Loss: 0.6671 | Val Loss: 0.9148 | Val Accuracy: 0.7637\n",
      "*** New best model saved with accuracy: 0.7637 ***\n"
     ]
    },
    {
     "name": "stderr",
     "output_type": "stream",
     "text": [
      "Epoch 13/15 [T]: 100%|██████████| 135/135 [00:27<00:00,  4.91it/s]\n",
      "Epoch 13/15 [V]: 100%|██████████| 34/34 [00:08<00:00,  4.13it/s]\n"
     ]
    },
    {
     "name": "stdout",
     "output_type": "stream",
     "text": [
      "Epoch 13/15 -> Train Loss: 0.6864 | Val Loss: 0.9275 | Val Accuracy: 0.7563\n"
     ]
    },
    {
     "name": "stderr",
     "output_type": "stream",
     "text": [
      "Epoch 14/15 [T]: 100%|██████████| 135/135 [00:27<00:00,  4.86it/s]\n",
      "Epoch 14/15 [V]: 100%|██████████| 34/34 [00:08<00:00,  4.18it/s]\n"
     ]
    },
    {
     "name": "stdout",
     "output_type": "stream",
     "text": [
      "Epoch 14/15 -> Train Loss: 0.6355 | Val Loss: 1.1445 | Val Accuracy: 0.7572\n"
     ]
    },
    {
     "name": "stderr",
     "output_type": "stream",
     "text": [
      "Epoch 15/15 [T]: 100%|██████████| 135/135 [00:28<00:00,  4.81it/s]\n",
      "Epoch 15/15 [V]: 100%|██████████| 34/34 [00:07<00:00,  4.28it/s]\n"
     ]
    },
    {
     "name": "stdout",
     "output_type": "stream",
     "text": [
      "Epoch 15/15 -> Train Loss: 0.6489 | Val Loss: 1.2863 | Val Accuracy: 0.6949\n",
      "\n",
      "Training finished.\n",
      "\n",
      "========================================\n",
      "      Final Model Performance\n",
      "========================================\n",
      "Classification Accuracy: 0.6949\n",
      "Weighted F1 Score:       0.6941\n",
      "========================================\n"
     ]
    }
   ],
   "source": [
    "# --- LOSS FUNCTION AND OPTIMIZER ---\n",
    "criterion = nn.CrossEntropyLoss()\n",
    "# We will only train the parameters of the final layer, but for full fine-tuning,\n",
    "# you would pass model.parameters() to the optimizer.\n",
    "optimizer = optim.Adam(model.parameters(), lr=config.lr)\n",
    "\n",
    "# --- TRAINING AND VALIDATION LOOP ---\n",
    "best_val_accuracy = 0.0\n",
    "print(\"\\nStarting training...\")\n",
    "\n",
    "for epoch in range(config.num_epochs):\n",
    "    # --- Training Phase ---\n",
    "    model.train()\n",
    "    running_loss = 0.0\n",
    "    \n",
    "    train_pbar = tqdm(train_loader, desc=f\"Epoch {epoch+1}/{config.num_epochs} [T]\")\n",
    "    for inputs, labels in train_pbar:\n",
    "        inputs, labels = inputs.to(config.device), labels.to(config.device)\n",
    "        \n",
    "        optimizer.zero_grad()\n",
    "        outputs = model(inputs)\n",
    "        loss = criterion(outputs, labels)\n",
    "        loss.backward()\n",
    "        optimizer.step()\n",
    "        \n",
    "        running_loss += loss.item() * inputs.size(0)\n",
    "    \n",
    "    epoch_train_loss = running_loss / len(train_loader.dataset.indices)\n",
    "\n",
    "    # --- Validation Phase ---\n",
    "    model.eval()\n",
    "    running_loss = 0.0\n",
    "    all_preds = []\n",
    "    all_labels = []\n",
    "    \n",
    "    val_pbar = tqdm(val_loader, desc=f\"Epoch {epoch+1}/{config.num_epochs} [V]\")\n",
    "    with torch.no_grad():\n",
    "        for inputs, labels in val_pbar:\n",
    "            inputs, labels = inputs.to(config.device), labels.to(config.device)\n",
    "            \n",
    "            outputs = model(inputs)\n",
    "            loss = criterion(outputs, labels)\n",
    "            _, preds = torch.max(outputs, 1)\n",
    "            \n",
    "            running_loss += loss.item() * inputs.size(0)\n",
    "            all_preds.extend(preds.cpu().numpy())\n",
    "            all_labels.extend(labels.cpu().numpy())\n",
    "\n",
    "    epoch_val_loss = running_loss / len(val_loader.dataset.indices)\n",
    "    epoch_val_accuracy = accuracy_score(all_labels, all_preds)\n",
    "\n",
    "    print(f\"Epoch {epoch+1}/{config.num_epochs} -> \"\n",
    "          f\"Train Loss: {epoch_train_loss:.4f} | \"\n",
    "          f\"Val Loss: {epoch_val_loss:.4f} | \"\n",
    "          f\"Val Accuracy: {epoch_val_accuracy:.4f}\")\n",
    "    \n",
    "    # Save the model if it has the best validation accuracy so far\n",
    "    if epoch_val_accuracy > best_val_accuracy:\n",
    "        best_val_accuracy = epoch_val_accuracy\n",
    "        torch.save(model.state_dict(), os.path.join(config.output_dir, 'best_model.pth'))\n",
    "        print(f\"*** New best model saved with accuracy: {best_val_accuracy:.4f} ***\")\n",
    "\n",
    "print(\"\\nTraining finished.\")\n",
    "\n",
    "# --- FINAL METRIC CALCULATION ---\n",
    "# Load the best performing model\n",
    "model.load_state_dict(torch.load(os.path.join(config.output_dir, 'best_model.pth')))\n",
    "model.eval()\n",
    "\n",
    "# We already have the predictions and labels from the last validation epoch of the best model\n",
    "# (or we could re-calculate on the val set if needed)\n",
    "final_accuracy = accuracy_score(all_labels, all_preds)\n",
    "# For F1-score, 'weighted' accounts for label imbalance by calculating metrics for each\n",
    "# label, and finding their average weighted by support (the number of true instances for each label).\n",
    "final_f1_score = f1_score(all_labels, all_preds, average='weighted')\n",
    "\n",
    "print(\"\\n\" + \"=\"*40)\n",
    "print(\"      Final Model Performance\")\n",
    "print(\"=\"*40)\n",
    "print(f\"Classification Accuracy: {final_accuracy:.4f}\")\n",
    "print(f\"Weighted F1 Score:       {final_f1_score:.4f}\")\n",
    "print(\"=\"*40)"
   ]
  },
  {
   "cell_type": "code",
   "execution_count": null,
   "id": "4d1b11c6",
   "metadata": {
    "papermill": {
     "duration": 0.09358,
     "end_time": "2025-07-18T16:21:13.304804",
     "exception": false,
     "start_time": "2025-07-18T16:21:13.211224",
     "status": "completed"
    },
    "tags": []
   },
   "outputs": [],
   "source": []
  },
  {
   "cell_type": "code",
   "execution_count": null,
   "id": "18170ee7",
   "metadata": {
    "papermill": {
     "duration": 0.091353,
     "end_time": "2025-07-18T16:21:13.506880",
     "exception": false,
     "start_time": "2025-07-18T16:21:13.415527",
     "status": "completed"
    },
    "tags": []
   },
   "outputs": [],
   "source": []
  }
 ],
 "metadata": {
  "kaggle": {
   "accelerator": "gpu",
   "dataSources": [
    {
     "datasetId": 7888962,
     "sourceId": 12499911,
     "sourceType": "datasetVersion"
    }
   ],
   "isGpuEnabled": true,
   "isInternetEnabled": true,
   "language": "python",
   "sourceType": "notebook"
  },
  "kernelspec": {
   "display_name": "Python 3",
   "language": "python",
   "name": "python3"
  },
  "language_info": {
   "codemirror_mode": {
    "name": "ipython",
    "version": 3
   },
   "file_extension": ".py",
   "mimetype": "text/x-python",
   "name": "python",
   "nbconvert_exporter": "python",
   "pygments_lexer": "ipython3",
   "version": "3.11.13"
  },
  "papermill": {
   "default_parameters": {},
   "duration": 596.86531,
   "end_time": "2025-07-18T16:21:16.150851",
   "environment_variables": {},
   "exception": null,
   "input_path": "__notebook__.ipynb",
   "output_path": "__notebook__.ipynb",
   "parameters": {},
   "start_time": "2025-07-18T16:11:19.285541",
   "version": "2.6.0"
  }
 },
 "nbformat": 4,
 "nbformat_minor": 5
}
